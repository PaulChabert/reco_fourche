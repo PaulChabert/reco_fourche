{
 "cells": [
  {
   "cell_type": "code",
   "execution_count": null,
   "metadata": {},
   "outputs": [],
   "source": []
  },
  {
   "cell_type": "code",
   "execution_count": 1,
   "metadata": {},
   "outputs": [],
   "source": [
    "import pandas as pd\n",
    "import matplotlib.pyplot as plt\n",
    "import seaborn as sns"
   ]
  },
  {
   "cell_type": "markdown",
   "metadata": {},
   "source": [
    "### import data\n"
   ]
  },
  {
   "cell_type": "code",
   "execution_count": 2,
   "metadata": {},
   "outputs": [],
   "source": [
    "orders = pd.read_json(\"../raw_data/order_scoring.json\",lines=True)"
   ]
  },
  {
   "cell_type": "code",
   "execution_count": 3,
   "metadata": {},
   "outputs": [
    {
     "data": {
      "text/html": [
       "<div>\n",
       "<style scoped>\n",
       "    .dataframe tbody tr th:only-of-type {\n",
       "        vertical-align: middle;\n",
       "    }\n",
       "\n",
       "    .dataframe tbody tr th {\n",
       "        vertical-align: top;\n",
       "    }\n",
       "\n",
       "    .dataframe thead th {\n",
       "        text-align: right;\n",
       "    }\n",
       "</style>\n",
       "<table border=\"1\" class=\"dataframe\">\n",
       "  <thead>\n",
       "    <tr style=\"text-align: right;\">\n",
       "      <th></th>\n",
       "      <th>customer_id</th>\n",
       "      <th>LO</th>\n",
       "      <th>sku</th>\n",
       "    </tr>\n",
       "  </thead>\n",
       "  <tbody>\n",
       "    <tr>\n",
       "      <th>0</th>\n",
       "      <td>h6IvomPZxOTKuKGuvS8b3nZrzVk2</td>\n",
       "      <td>1</td>\n",
       "      <td>1-CTR-103</td>\n",
       "    </tr>\n",
       "    <tr>\n",
       "      <th>1</th>\n",
       "      <td>h6IvomPZxOTKuKGuvS8b3nZrzVk2</td>\n",
       "      <td>1</td>\n",
       "      <td>2-END-103</td>\n",
       "    </tr>\n",
       "    <tr>\n",
       "      <th>2</th>\n",
       "      <td>h6IvomPZxOTKuKGuvS8b3nZrzVk2</td>\n",
       "      <td>1</td>\n",
       "      <td>1-LIM-136</td>\n",
       "    </tr>\n",
       "    <tr>\n",
       "      <th>3</th>\n",
       "      <td>h6IvomPZxOTKuKGuvS8b3nZrzVk2</td>\n",
       "      <td>1</td>\n",
       "      <td>1-ECM-114</td>\n",
       "    </tr>\n",
       "    <tr>\n",
       "      <th>4</th>\n",
       "      <td>h6IvomPZxOTKuKGuvS8b3nZrzVk2</td>\n",
       "      <td>1</td>\n",
       "      <td>6-VDG-101</td>\n",
       "    </tr>\n",
       "    <tr>\n",
       "      <th>...</th>\n",
       "      <td>...</td>\n",
       "      <td>...</td>\n",
       "      <td>...</td>\n",
       "    </tr>\n",
       "    <tr>\n",
       "      <th>3995333</th>\n",
       "      <td>1193650815036</td>\n",
       "      <td>4</td>\n",
       "      <td>1-PUK-109</td>\n",
       "    </tr>\n",
       "    <tr>\n",
       "      <th>3995334</th>\n",
       "      <td>1193650815036</td>\n",
       "      <td>4</td>\n",
       "      <td>4-LAV-105</td>\n",
       "    </tr>\n",
       "    <tr>\n",
       "      <th>3995335</th>\n",
       "      <td>1193650815036</td>\n",
       "      <td>4</td>\n",
       "      <td>4-ALO-102</td>\n",
       "    </tr>\n",
       "    <tr>\n",
       "      <th>3995336</th>\n",
       "      <td>1193650815036</td>\n",
       "      <td>4</td>\n",
       "      <td>1-PUK-104</td>\n",
       "    </tr>\n",
       "    <tr>\n",
       "      <th>3995337</th>\n",
       "      <td>1193650815036</td>\n",
       "      <td>4</td>\n",
       "      <td>1-FAV-101</td>\n",
       "    </tr>\n",
       "  </tbody>\n",
       "</table>\n",
       "<p>3995338 rows × 3 columns</p>\n",
       "</div>"
      ],
      "text/plain": [
       "                          customer_id  LO        sku\n",
       "0        h6IvomPZxOTKuKGuvS8b3nZrzVk2   1  1-CTR-103\n",
       "1        h6IvomPZxOTKuKGuvS8b3nZrzVk2   1  2-END-103\n",
       "2        h6IvomPZxOTKuKGuvS8b3nZrzVk2   1  1-LIM-136\n",
       "3        h6IvomPZxOTKuKGuvS8b3nZrzVk2   1  1-ECM-114\n",
       "4        h6IvomPZxOTKuKGuvS8b3nZrzVk2   1  6-VDG-101\n",
       "...                               ...  ..        ...\n",
       "3995333                 1193650815036   4  1-PUK-109\n",
       "3995334                 1193650815036   4  4-LAV-105\n",
       "3995335                 1193650815036   4  4-ALO-102\n",
       "3995336                 1193650815036   4  1-PUK-104\n",
       "3995337                 1193650815036   4  1-FAV-101\n",
       "\n",
       "[3995338 rows x 3 columns]"
      ]
     },
     "execution_count": 3,
     "metadata": {},
     "output_type": "execute_result"
    }
   ],
   "source": [
    "orders"
   ]
  },
  {
   "cell_type": "markdown",
   "metadata": {},
   "source": [
    "### determining how many sku to take into consideration"
   ]
  },
  {
   "cell_type": "code",
   "execution_count": 4,
   "metadata": {},
   "outputs": [
    {
     "name": "stdout",
     "output_type": "stream",
     "text": [
      "7503  unique sku\n"
     ]
    }
   ],
   "source": [
    "print(len(orders['sku'].unique()),\" unique sku\")"
   ]
  },
  {
   "cell_type": "code",
   "execution_count": 5,
   "metadata": {},
   "outputs": [
    {
     "name": "stdout",
     "output_type": "stream",
     "text": [
      "as we see bellow, we can take only the 1000 more orderd skus\n"
     ]
    },
    {
     "data": {
      "text/plain": [
       "(0.0, 6000.0)"
      ]
     },
     "execution_count": 5,
     "metadata": {},
     "output_type": "execute_result"
    },
    {
     "data": {
      "image/png": "[encoded data removed]",
      "text/plain": [
       "<Figure size 640x480 with 1 Axes>"
      ]
     },
     "metadata": {},
     "output_type": "display_data"
    }
   ],
   "source": [
    "print(\"as we see bellow, we can take only the 1000 more orderd skus\")\n",
    "counted_sku_df = orders.groupby('sku').count()['LO'].copy()\n",
    "counted_sku_df.sort_values(ascending=False,inplace=True)\n",
    "sns.histplot(counted_sku_df)\n",
    "plt.xlim(0,6000)\n"
   ]
  },
  {
   "cell_type": "code",
   "execution_count": 6,
   "metadata": {},
   "outputs": [],
   "source": [
    "sku_lenght = 500"
   ]
  },
  {
   "cell_type": "markdown",
   "metadata": {},
   "source": [
    "### drop unfamous skus\n",
    "\n",
    "\n"
   ]
  },
  {
   "cell_type": "code",
   "execution_count": 7,
   "metadata": {},
   "outputs": [],
   "source": [
    "short_sku_list = list(counted_sku_df.head(sku_lenght).index)"
   ]
  },
  {
   "cell_type": "code",
   "execution_count": 8,
   "metadata": {},
   "outputs": [],
   "source": [
    "orders_short = orders[orders['sku'].isin(short_sku_list)]"
   ]
  },
  {
   "cell_type": "markdown",
   "metadata": {},
   "source": [
    "# Scoring"
   ]
  },
  {
   "cell_type": "markdown",
   "metadata": {},
   "source": [
    "## Score each order"
   ]
  },
  {
   "cell_type": "code",
   "execution_count": 9,
   "metadata": {},
   "outputs": [],
   "source": [
    "coef = {\n",
    "    1:0.4,\n",
    "    2:0.3,\n",
    "    3:0.2,\n",
    "    4:0.1\n",
    "    }"
   ]
  },
  {
   "cell_type": "code",
   "execution_count": 10,
   "metadata": {},
   "outputs": [
    {
     "name": "stderr",
     "output_type": "stream",
     "text": [
      "/tmp/ipykernel_19998/1136022426.py:1: SettingWithCopyWarning: \n",
      "A value is trying to be set on a copy of a slice from a DataFrame.\n",
      "Try using .loc[row_indexer,col_indexer] = value instead\n",
      "\n",
      "See the caveats in the documentation: https://pandas.pydata.org/pandas-docs/stable/user_guide/indexing.html#returning-a-view-versus-a-copy\n",
      "  orders_short['score'] = orders_short['LO'].map(coef)\n"
     ]
    }
   ],
   "source": [
    "orders_short['score'] = orders_short['LO'].map(coef)"
   ]
  },
  {
   "cell_type": "code",
   "execution_count": 11,
   "metadata": {},
   "outputs": [
    {
     "data": {
      "text/html": [
       "<div>\n",
       "<style scoped>\n",
       "    .dataframe tbody tr th:only-of-type {\n",
       "        vertical-align: middle;\n",
       "    }\n",
       "\n",
       "    .dataframe tbody tr th {\n",
       "        vertical-align: top;\n",
       "    }\n",
       "\n",
       "    .dataframe thead th {\n",
       "        text-align: right;\n",
       "    }\n",
       "</style>\n",
       "<table border=\"1\" class=\"dataframe\">\n",
       "  <thead>\n",
       "    <tr style=\"text-align: right;\">\n",
       "      <th></th>\n",
       "      <th></th>\n",
       "      <th>score</th>\n",
       "    </tr>\n",
       "    <tr>\n",
       "      <th>customer_id</th>\n",
       "      <th>sku</th>\n",
       "      <th></th>\n",
       "    </tr>\n",
       "  </thead>\n",
       "  <tbody>\n",
       "    <tr>\n",
       "      <th rowspan=\"5\" valign=\"top\">00HCaCqtG9aMGVCDyBUbvzIzY073</th>\n",
       "      <th>1-CNT-133</th>\n",
       "      <td>0.5</td>\n",
       "    </tr>\n",
       "    <tr>\n",
       "      <th>1-ELB-104</th>\n",
       "      <td>0.5</td>\n",
       "    </tr>\n",
       "    <tr>\n",
       "      <th>1-FAV-113</th>\n",
       "      <td>0.5</td>\n",
       "    </tr>\n",
       "    <tr>\n",
       "      <th>1-LUC-103</th>\n",
       "      <td>0.6</td>\n",
       "    </tr>\n",
       "    <tr>\n",
       "      <th>1-NTV-151</th>\n",
       "      <td>0.6</td>\n",
       "    </tr>\n",
       "    <tr>\n",
       "      <th>...</th>\n",
       "      <th>...</th>\n",
       "      <td>...</td>\n",
       "    </tr>\n",
       "    <tr>\n",
       "      <th rowspan=\"5\" valign=\"top\">zzy8Wl17TrPlHWs0QQYZyLzdUVC3</th>\n",
       "      <th>4-LAF-133</th>\n",
       "      <td>0.3</td>\n",
       "    </tr>\n",
       "    <tr>\n",
       "      <th>4-LAF-144</th>\n",
       "      <td>0.3</td>\n",
       "    </tr>\n",
       "    <tr>\n",
       "      <th>6-BRO-102</th>\n",
       "      <td>0.3</td>\n",
       "    </tr>\n",
       "    <tr>\n",
       "      <th>6-CRE-101</th>\n",
       "      <td>0.4</td>\n",
       "    </tr>\n",
       "    <tr>\n",
       "      <th>6-NAT-102</th>\n",
       "      <td>0.3</td>\n",
       "    </tr>\n",
       "  </tbody>\n",
       "</table>\n",
       "<p>1447552 rows × 1 columns</p>\n",
       "</div>"
      ],
      "text/plain": [
       "                                        score\n",
       "customer_id                  sku             \n",
       "00HCaCqtG9aMGVCDyBUbvzIzY073 1-CNT-133    0.5\n",
       "                             1-ELB-104    0.5\n",
       "                             1-FAV-113    0.5\n",
       "                             1-LUC-103    0.6\n",
       "                             1-NTV-151    0.6\n",
       "...                                       ...\n",
       "zzy8Wl17TrPlHWs0QQYZyLzdUVC3 4-LAF-133    0.3\n",
       "                             4-LAF-144    0.3\n",
       "                             6-BRO-102    0.3\n",
       "                             6-CRE-101    0.4\n",
       "                             6-NAT-102    0.3\n",
       "\n",
       "[1447552 rows x 1 columns]"
      ]
     },
     "execution_count": 11,
     "metadata": {},
     "output_type": "execute_result"
    }
   ],
   "source": [
    "table_scoring = orders_short.groupby(by=['customer_id','sku']).sum()[['score']]\n",
    "\n",
    "table_scoring\n"
   ]
  },
  {
   "cell_type": "markdown",
   "metadata": {},
   "source": [
    "## Score penality"
   ]
  },
  {
   "cell_type": "code",
   "execution_count": 12,
   "metadata": {},
   "outputs": [],
   "source": [
    "penality = 0.5"
   ]
  },
  {
   "cell_type": "code",
   "execution_count": 13,
   "metadata": {
    "scrolled": true
   },
   "outputs": [
    {
     "data": {
      "text/html": [
       "<div>\n",
       "<style scoped>\n",
       "    .dataframe tbody tr th:only-of-type {\n",
       "        vertical-align: middle;\n",
       "    }\n",
       "\n",
       "    .dataframe tbody tr th {\n",
       "        vertical-align: top;\n",
       "    }\n",
       "\n",
       "    .dataframe thead tr th {\n",
       "        text-align: left;\n",
       "    }\n",
       "\n",
       "    .dataframe thead tr:last-of-type th {\n",
       "        text-align: right;\n",
       "    }\n",
       "</style>\n",
       "<table border=\"1\" class=\"dataframe\">\n",
       "  <thead>\n",
       "    <tr>\n",
       "      <th></th>\n",
       "      <th></th>\n",
       "      <th colspan=\"4\" halign=\"left\">score</th>\n",
       "      <th>penality</th>\n",
       "    </tr>\n",
       "    <tr>\n",
       "      <th></th>\n",
       "      <th>LO</th>\n",
       "      <th>1</th>\n",
       "      <th>2</th>\n",
       "      <th>3</th>\n",
       "      <th>4</th>\n",
       "      <th></th>\n",
       "    </tr>\n",
       "    <tr>\n",
       "      <th>customer_id</th>\n",
       "      <th>sku</th>\n",
       "      <th></th>\n",
       "      <th></th>\n",
       "      <th></th>\n",
       "      <th></th>\n",
       "      <th></th>\n",
       "    </tr>\n",
       "  </thead>\n",
       "  <tbody>\n",
       "    <tr>\n",
       "      <th rowspan=\"5\" valign=\"top\">00HCaCqtG9aMGVCDyBUbvzIzY073</th>\n",
       "      <th>1-CNT-133</th>\n",
       "      <td>0</td>\n",
       "      <td>1</td>\n",
       "      <td>1</td>\n",
       "      <td>0</td>\n",
       "      <td>0.0</td>\n",
       "    </tr>\n",
       "    <tr>\n",
       "      <th>1-ELB-104</th>\n",
       "      <td>0</td>\n",
       "      <td>1</td>\n",
       "      <td>1</td>\n",
       "      <td>0</td>\n",
       "      <td>0.0</td>\n",
       "    </tr>\n",
       "    <tr>\n",
       "      <th>1-FAV-113</th>\n",
       "      <td>0</td>\n",
       "      <td>1</td>\n",
       "      <td>1</td>\n",
       "      <td>0</td>\n",
       "      <td>0.0</td>\n",
       "    </tr>\n",
       "    <tr>\n",
       "      <th>1-LUC-103</th>\n",
       "      <td>0</td>\n",
       "      <td>1</td>\n",
       "      <td>1</td>\n",
       "      <td>1</td>\n",
       "      <td>0.0</td>\n",
       "    </tr>\n",
       "    <tr>\n",
       "      <th>1-NTV-151</th>\n",
       "      <td>0</td>\n",
       "      <td>1</td>\n",
       "      <td>1</td>\n",
       "      <td>1</td>\n",
       "      <td>0.0</td>\n",
       "    </tr>\n",
       "    <tr>\n",
       "      <th>...</th>\n",
       "      <th>...</th>\n",
       "      <td>...</td>\n",
       "      <td>...</td>\n",
       "      <td>...</td>\n",
       "      <td>...</td>\n",
       "      <td>...</td>\n",
       "    </tr>\n",
       "    <tr>\n",
       "      <th rowspan=\"5\" valign=\"top\">zzy8Wl17TrPlHWs0QQYZyLzdUVC3</th>\n",
       "      <th>4-LAF-133</th>\n",
       "      <td>0</td>\n",
       "      <td>1</td>\n",
       "      <td>0</td>\n",
       "      <td>0</td>\n",
       "      <td>0.0</td>\n",
       "    </tr>\n",
       "    <tr>\n",
       "      <th>4-LAF-144</th>\n",
       "      <td>0</td>\n",
       "      <td>1</td>\n",
       "      <td>0</td>\n",
       "      <td>0</td>\n",
       "      <td>0.0</td>\n",
       "    </tr>\n",
       "    <tr>\n",
       "      <th>6-BRO-102</th>\n",
       "      <td>0</td>\n",
       "      <td>1</td>\n",
       "      <td>0</td>\n",
       "      <td>0</td>\n",
       "      <td>0.0</td>\n",
       "    </tr>\n",
       "    <tr>\n",
       "      <th>6-CRE-101</th>\n",
       "      <td>1</td>\n",
       "      <td>0</td>\n",
       "      <td>0</td>\n",
       "      <td>0</td>\n",
       "      <td>0.0</td>\n",
       "    </tr>\n",
       "    <tr>\n",
       "      <th>6-NAT-102</th>\n",
       "      <td>0</td>\n",
       "      <td>1</td>\n",
       "      <td>0</td>\n",
       "      <td>0</td>\n",
       "      <td>0.0</td>\n",
       "    </tr>\n",
       "  </tbody>\n",
       "</table>\n",
       "<p>1447552 rows × 5 columns</p>\n",
       "</div>"
      ],
      "text/plain": [
       "                                       score          penality\n",
       "LO                                         1  2  3  4         \n",
       "customer_id                  sku                              \n",
       "00HCaCqtG9aMGVCDyBUbvzIzY073 1-CNT-133     0  1  1  0      0.0\n",
       "                             1-ELB-104     0  1  1  0      0.0\n",
       "                             1-FAV-113     0  1  1  0      0.0\n",
       "                             1-LUC-103     0  1  1  1      0.0\n",
       "                             1-NTV-151     0  1  1  1      0.0\n",
       "...                                      ... .. .. ..      ...\n",
       "zzy8Wl17TrPlHWs0QQYZyLzdUVC3 4-LAF-133     0  1  0  0      0.0\n",
       "                             4-LAF-144     0  1  0  0      0.0\n",
       "                             6-BRO-102     0  1  0  0      0.0\n",
       "                             6-CRE-101     1  0  0  0      0.0\n",
       "                             6-NAT-102     0  1  0  0      0.0\n",
       "\n",
       "[1447552 rows x 5 columns]"
      ]
     },
     "execution_count": 13,
     "metadata": {},
     "output_type": "execute_result"
    }
   ],
   "source": [
    "table_penality = pd.pivot_table(orders_short, \n",
    "                       values=['score'], \n",
    "                       index=['customer_id','sku'],\n",
    "                       columns=['LO'],\n",
    "                       aggfunc='count',\n",
    "                       fill_value=0)\n",
    "\n",
    "table_penality['penality'] = table_penality[[('score',4),('score',3)]].max(axis=1)*(1-table_penality[('score',2)])*(1-table_penality[('score',1)])*penality\n",
    "table_penality"
   ]
  },
  {
   "cell_type": "code",
   "execution_count": null,
   "metadata": {
    "scrolled": true
   },
   "outputs": [],
   "source": []
  },
  {
   "cell_type": "markdown",
   "metadata": {},
   "source": [
    "## add those two scores"
   ]
  },
  {
   "cell_type": "code",
   "execution_count": 14,
   "metadata": {},
   "outputs": [],
   "source": [
    "final_table = pd.DataFrame(table_scoring['score'] - table_penality['penality'],columns=[\"score\"])"
   ]
  },
  {
   "cell_type": "code",
   "execution_count": 15,
   "metadata": {},
   "outputs": [],
   "source": [
    "data_df = final_table.reset_index()"
   ]
  },
  {
   "cell_type": "code",
   "execution_count": 16,
   "metadata": {},
   "outputs": [
    {
     "data": {
      "text/html": [
       "<div>\n",
       "<style scoped>\n",
       "    .dataframe tbody tr th:only-of-type {\n",
       "        vertical-align: middle;\n",
       "    }\n",
       "\n",
       "    .dataframe tbody tr th {\n",
       "        vertical-align: top;\n",
       "    }\n",
       "\n",
       "    .dataframe thead th {\n",
       "        text-align: right;\n",
       "    }\n",
       "</style>\n",
       "<table border=\"1\" class=\"dataframe\">\n",
       "  <thead>\n",
       "    <tr style=\"text-align: right;\">\n",
       "      <th></th>\n",
       "      <th>customer_id</th>\n",
       "      <th>sku</th>\n",
       "      <th>score</th>\n",
       "    </tr>\n",
       "  </thead>\n",
       "  <tbody>\n",
       "    <tr>\n",
       "      <th>0</th>\n",
       "      <td>00HCaCqtG9aMGVCDyBUbvzIzY073</td>\n",
       "      <td>1-CNT-133</td>\n",
       "      <td>0.5</td>\n",
       "    </tr>\n",
       "    <tr>\n",
       "      <th>1</th>\n",
       "      <td>00HCaCqtG9aMGVCDyBUbvzIzY073</td>\n",
       "      <td>1-ELB-104</td>\n",
       "      <td>0.5</td>\n",
       "    </tr>\n",
       "    <tr>\n",
       "      <th>2</th>\n",
       "      <td>00HCaCqtG9aMGVCDyBUbvzIzY073</td>\n",
       "      <td>1-FAV-113</td>\n",
       "      <td>0.5</td>\n",
       "    </tr>\n",
       "    <tr>\n",
       "      <th>3</th>\n",
       "      <td>00HCaCqtG9aMGVCDyBUbvzIzY073</td>\n",
       "      <td>1-LUC-103</td>\n",
       "      <td>0.6</td>\n",
       "    </tr>\n",
       "    <tr>\n",
       "      <th>4</th>\n",
       "      <td>00HCaCqtG9aMGVCDyBUbvzIzY073</td>\n",
       "      <td>1-NTV-151</td>\n",
       "      <td>0.6</td>\n",
       "    </tr>\n",
       "    <tr>\n",
       "      <th>...</th>\n",
       "      <td>...</td>\n",
       "      <td>...</td>\n",
       "      <td>...</td>\n",
       "    </tr>\n",
       "    <tr>\n",
       "      <th>1447547</th>\n",
       "      <td>zzy8Wl17TrPlHWs0QQYZyLzdUVC3</td>\n",
       "      <td>4-LAF-133</td>\n",
       "      <td>0.3</td>\n",
       "    </tr>\n",
       "    <tr>\n",
       "      <th>1447548</th>\n",
       "      <td>zzy8Wl17TrPlHWs0QQYZyLzdUVC3</td>\n",
       "      <td>4-LAF-144</td>\n",
       "      <td>0.3</td>\n",
       "    </tr>\n",
       "    <tr>\n",
       "      <th>1447549</th>\n",
       "      <td>zzy8Wl17TrPlHWs0QQYZyLzdUVC3</td>\n",
       "      <td>6-BRO-102</td>\n",
       "      <td>0.3</td>\n",
       "    </tr>\n",
       "    <tr>\n",
       "      <th>1447550</th>\n",
       "      <td>zzy8Wl17TrPlHWs0QQYZyLzdUVC3</td>\n",
       "      <td>6-CRE-101</td>\n",
       "      <td>0.4</td>\n",
       "    </tr>\n",
       "    <tr>\n",
       "      <th>1447551</th>\n",
       "      <td>zzy8Wl17TrPlHWs0QQYZyLzdUVC3</td>\n",
       "      <td>6-NAT-102</td>\n",
       "      <td>0.3</td>\n",
       "    </tr>\n",
       "  </tbody>\n",
       "</table>\n",
       "<p>1447552 rows × 3 columns</p>\n",
       "</div>"
      ],
      "text/plain": [
       "                          customer_id        sku  score\n",
       "0        00HCaCqtG9aMGVCDyBUbvzIzY073  1-CNT-133    0.5\n",
       "1        00HCaCqtG9aMGVCDyBUbvzIzY073  1-ELB-104    0.5\n",
       "2        00HCaCqtG9aMGVCDyBUbvzIzY073  1-FAV-113    0.5\n",
       "3        00HCaCqtG9aMGVCDyBUbvzIzY073  1-LUC-103    0.6\n",
       "4        00HCaCqtG9aMGVCDyBUbvzIzY073  1-NTV-151    0.6\n",
       "...                               ...        ...    ...\n",
       "1447547  zzy8Wl17TrPlHWs0QQYZyLzdUVC3  4-LAF-133    0.3\n",
       "1447548  zzy8Wl17TrPlHWs0QQYZyLzdUVC3  4-LAF-144    0.3\n",
       "1447549  zzy8Wl17TrPlHWs0QQYZyLzdUVC3  6-BRO-102    0.3\n",
       "1447550  zzy8Wl17TrPlHWs0QQYZyLzdUVC3  6-CRE-101    0.4\n",
       "1447551  zzy8Wl17TrPlHWs0QQYZyLzdUVC3  6-NAT-102    0.3\n",
       "\n",
       "[1447552 rows x 3 columns]"
      ]
     },
     "execution_count": 16,
     "metadata": {},
     "output_type": "execute_result"
    }
   ],
   "source": [
    "data_df"
   ]
  },
  {
   "cell_type": "markdown",
   "metadata": {},
   "source": [
    "### trasnpose to double entrey matrix"
   ]
  },
  {
   "cell_type": "code",
   "execution_count": null,
   "metadata": {},
   "outputs": [],
   "source": []
  },
  {
   "cell_type": "code",
   "execution_count": null,
   "metadata": {},
   "outputs": [],
   "source": []
  },
  {
   "cell_type": "code",
   "execution_count": 17,
   "metadata": {},
   "outputs": [
    {
     "data": {
      "text/html": [
       "<div>\n",
       "<style scoped>\n",
       "    .dataframe tbody tr th:only-of-type {\n",
       "        vertical-align: middle;\n",
       "    }\n",
       "\n",
       "    .dataframe tbody tr th {\n",
       "        vertical-align: top;\n",
       "    }\n",
       "\n",
       "    .dataframe thead th {\n",
       "        text-align: right;\n",
       "    }\n",
       "</style>\n",
       "<table border=\"1\" class=\"dataframe\">\n",
       "  <thead>\n",
       "    <tr style=\"text-align: right;\">\n",
       "      <th></th>\n",
       "      <th></th>\n",
       "      <th>score</th>\n",
       "    </tr>\n",
       "    <tr>\n",
       "      <th>customer_id</th>\n",
       "      <th>sku</th>\n",
       "      <th></th>\n",
       "    </tr>\n",
       "  </thead>\n",
       "  <tbody>\n",
       "    <tr>\n",
       "      <th rowspan=\"5\" valign=\"top\">00HCaCqtG9aMGVCDyBUbvzIzY073</th>\n",
       "      <th>1-CNT-133</th>\n",
       "      <td>0.5</td>\n",
       "    </tr>\n",
       "    <tr>\n",
       "      <th>1-ELB-104</th>\n",
       "      <td>0.5</td>\n",
       "    </tr>\n",
       "    <tr>\n",
       "      <th>1-FAV-113</th>\n",
       "      <td>0.5</td>\n",
       "    </tr>\n",
       "    <tr>\n",
       "      <th>1-LUC-103</th>\n",
       "      <td>0.6</td>\n",
       "    </tr>\n",
       "    <tr>\n",
       "      <th>1-NTV-151</th>\n",
       "      <td>0.6</td>\n",
       "    </tr>\n",
       "    <tr>\n",
       "      <th>...</th>\n",
       "      <th>...</th>\n",
       "      <td>...</td>\n",
       "    </tr>\n",
       "    <tr>\n",
       "      <th rowspan=\"5\" valign=\"top\">zzy8Wl17TrPlHWs0QQYZyLzdUVC3</th>\n",
       "      <th>4-LAF-133</th>\n",
       "      <td>0.3</td>\n",
       "    </tr>\n",
       "    <tr>\n",
       "      <th>4-LAF-144</th>\n",
       "      <td>0.3</td>\n",
       "    </tr>\n",
       "    <tr>\n",
       "      <th>6-BRO-102</th>\n",
       "      <td>0.3</td>\n",
       "    </tr>\n",
       "    <tr>\n",
       "      <th>6-CRE-101</th>\n",
       "      <td>0.4</td>\n",
       "    </tr>\n",
       "    <tr>\n",
       "      <th>6-NAT-102</th>\n",
       "      <td>0.3</td>\n",
       "    </tr>\n",
       "  </tbody>\n",
       "</table>\n",
       "<p>1447552 rows × 1 columns</p>\n",
       "</div>"
      ],
      "text/plain": [
       "                                        score\n",
       "customer_id                  sku             \n",
       "00HCaCqtG9aMGVCDyBUbvzIzY073 1-CNT-133    0.5\n",
       "                             1-ELB-104    0.5\n",
       "                             1-FAV-113    0.5\n",
       "                             1-LUC-103    0.6\n",
       "                             1-NTV-151    0.6\n",
       "...                                       ...\n",
       "zzy8Wl17TrPlHWs0QQYZyLzdUVC3 4-LAF-133    0.3\n",
       "                             4-LAF-144    0.3\n",
       "                             6-BRO-102    0.3\n",
       "                             6-CRE-101    0.4\n",
       "                             6-NAT-102    0.3\n",
       "\n",
       "[1447552 rows x 1 columns]"
      ]
     },
     "execution_count": 17,
     "metadata": {},
     "output_type": "execute_result"
    }
   ],
   "source": [
    "final_table"
   ]
  },
  {
   "cell_type": "code",
   "execution_count": 18,
   "metadata": {},
   "outputs": [],
   "source": [
    "matrix = pd.pivot_table(final_table, values=['score'], index=['customer_id'],\n",
    "                    columns=['sku'],aggfunc='sum')\n"
   ]
  },
  {
   "cell_type": "code",
   "execution_count": null,
   "metadata": {},
   "outputs": [],
   "source": []
  },
  {
   "cell_type": "markdown",
   "metadata": {},
   "source": [
    "# SVD"
   ]
  },
  {
   "cell_type": "raw",
   "metadata": {},
   "source": [
    "all_customers = orders['customer_id'].unique()\n",
    "all_customers"
   ]
  },
  {
   "cell_type": "code",
   "execution_count": 19,
   "metadata": {},
   "outputs": [
    {
     "data": {
      "text/plain": [
       "7503"
      ]
     },
     "execution_count": 19,
     "metadata": {},
     "output_type": "execute_result"
    }
   ],
   "source": [
    "all_skus = orders['sku'].unique()\n",
    "all_skus\n",
    "len(all_skus)"
   ]
  },
  {
   "cell_type": "markdown",
   "metadata": {},
   "source": [
    "### Test scikit-surprise"
   ]
  },
  {
   "cell_type": "code",
   "execution_count": null,
   "metadata": {
    "scrolled": true
   },
   "outputs": [],
   "source": []
  },
  {
   "cell_type": "code",
   "execution_count": 20,
   "metadata": {},
   "outputs": [],
   "source": [
    "# Imports\n",
    "from surprise import Reader, Dataset, SVD, NMF\n",
    "from surprise.model_selection import cross_validate, train_test_split\n",
    "from surprise.accuracy import rmse, mae"
   ]
  },
  {
   "cell_type": "markdown",
   "metadata": {},
   "source": [
    "Exemple https://towardsdatascience.com/various-implementations-of-collaborative-filtering-100385c6dfe0\n",
    "\n",
    "Doc scikit-surprise https://surprise.readthedocs.io/en/stable/getting_started.html#load-from-df-example"
   ]
  },
  {
   "cell_type": "code",
   "execution_count": 21,
   "metadata": {},
   "outputs": [],
   "source": [
    "# On crée un Reader de scikit-surprise\n",
    "reader = Reader(rating_scale=(-0.5, 1))"
   ]
  },
  {
   "cell_type": "code",
   "execution_count": null,
   "metadata": {},
   "outputs": [],
   "source": []
  },
  {
   "cell_type": "code",
   "execution_count": null,
   "metadata": {},
   "outputs": [],
   "source": []
  },
  {
   "cell_type": "markdown",
   "metadata": {},
   "source": [
    "## SVD"
   ]
  },
  {
   "cell_type": "code",
   "execution_count": 22,
   "metadata": {},
   "outputs": [],
   "source": [
    "# On crée un modèle SVD\n",
    "model = SVD()"
   ]
  },
  {
   "cell_type": "code",
   "execution_count": 23,
   "metadata": {},
   "outputs": [
    {
     "data": {
      "text/html": [
       "<div>\n",
       "<style scoped>\n",
       "    .dataframe tbody tr th:only-of-type {\n",
       "        vertical-align: middle;\n",
       "    }\n",
       "\n",
       "    .dataframe tbody tr th {\n",
       "        vertical-align: top;\n",
       "    }\n",
       "\n",
       "    .dataframe thead th {\n",
       "        text-align: right;\n",
       "    }\n",
       "</style>\n",
       "<table border=\"1\" class=\"dataframe\">\n",
       "  <thead>\n",
       "    <tr style=\"text-align: right;\">\n",
       "      <th></th>\n",
       "      <th>customer_id</th>\n",
       "      <th>sku</th>\n",
       "      <th>score</th>\n",
       "    </tr>\n",
       "  </thead>\n",
       "  <tbody>\n",
       "    <tr>\n",
       "      <th>0</th>\n",
       "      <td>00HCaCqtG9aMGVCDyBUbvzIzY073</td>\n",
       "      <td>1-CNT-133</td>\n",
       "      <td>0.5</td>\n",
       "    </tr>\n",
       "    <tr>\n",
       "      <th>1</th>\n",
       "      <td>00HCaCqtG9aMGVCDyBUbvzIzY073</td>\n",
       "      <td>1-ELB-104</td>\n",
       "      <td>0.5</td>\n",
       "    </tr>\n",
       "    <tr>\n",
       "      <th>2</th>\n",
       "      <td>00HCaCqtG9aMGVCDyBUbvzIzY073</td>\n",
       "      <td>1-FAV-113</td>\n",
       "      <td>0.5</td>\n",
       "    </tr>\n",
       "    <tr>\n",
       "      <th>3</th>\n",
       "      <td>00HCaCqtG9aMGVCDyBUbvzIzY073</td>\n",
       "      <td>1-LUC-103</td>\n",
       "      <td>0.6</td>\n",
       "    </tr>\n",
       "    <tr>\n",
       "      <th>4</th>\n",
       "      <td>00HCaCqtG9aMGVCDyBUbvzIzY073</td>\n",
       "      <td>1-NTV-151</td>\n",
       "      <td>0.6</td>\n",
       "    </tr>\n",
       "    <tr>\n",
       "      <th>...</th>\n",
       "      <td>...</td>\n",
       "      <td>...</td>\n",
       "      <td>...</td>\n",
       "    </tr>\n",
       "    <tr>\n",
       "      <th>1447547</th>\n",
       "      <td>zzy8Wl17TrPlHWs0QQYZyLzdUVC3</td>\n",
       "      <td>4-LAF-133</td>\n",
       "      <td>0.3</td>\n",
       "    </tr>\n",
       "    <tr>\n",
       "      <th>1447548</th>\n",
       "      <td>zzy8Wl17TrPlHWs0QQYZyLzdUVC3</td>\n",
       "      <td>4-LAF-144</td>\n",
       "      <td>0.3</td>\n",
       "    </tr>\n",
       "    <tr>\n",
       "      <th>1447549</th>\n",
       "      <td>zzy8Wl17TrPlHWs0QQYZyLzdUVC3</td>\n",
       "      <td>6-BRO-102</td>\n",
       "      <td>0.3</td>\n",
       "    </tr>\n",
       "    <tr>\n",
       "      <th>1447550</th>\n",
       "      <td>zzy8Wl17TrPlHWs0QQYZyLzdUVC3</td>\n",
       "      <td>6-CRE-101</td>\n",
       "      <td>0.4</td>\n",
       "    </tr>\n",
       "    <tr>\n",
       "      <th>1447551</th>\n",
       "      <td>zzy8Wl17TrPlHWs0QQYZyLzdUVC3</td>\n",
       "      <td>6-NAT-102</td>\n",
       "      <td>0.3</td>\n",
       "    </tr>\n",
       "  </tbody>\n",
       "</table>\n",
       "<p>1447552 rows × 3 columns</p>\n",
       "</div>"
      ],
      "text/plain": [
       "                          customer_id        sku  score\n",
       "0        00HCaCqtG9aMGVCDyBUbvzIzY073  1-CNT-133    0.5\n",
       "1        00HCaCqtG9aMGVCDyBUbvzIzY073  1-ELB-104    0.5\n",
       "2        00HCaCqtG9aMGVCDyBUbvzIzY073  1-FAV-113    0.5\n",
       "3        00HCaCqtG9aMGVCDyBUbvzIzY073  1-LUC-103    0.6\n",
       "4        00HCaCqtG9aMGVCDyBUbvzIzY073  1-NTV-151    0.6\n",
       "...                               ...        ...    ...\n",
       "1447547  zzy8Wl17TrPlHWs0QQYZyLzdUVC3  4-LAF-133    0.3\n",
       "1447548  zzy8Wl17TrPlHWs0QQYZyLzdUVC3  4-LAF-144    0.3\n",
       "1447549  zzy8Wl17TrPlHWs0QQYZyLzdUVC3  6-BRO-102    0.3\n",
       "1447550  zzy8Wl17TrPlHWs0QQYZyLzdUVC3  6-CRE-101    0.4\n",
       "1447551  zzy8Wl17TrPlHWs0QQYZyLzdUVC3  6-NAT-102    0.3\n",
       "\n",
       "[1447552 rows x 3 columns]"
      ]
     },
     "execution_count": 23,
     "metadata": {},
     "output_type": "execute_result"
    }
   ],
   "source": [
    "data_df"
   ]
  },
  {
   "cell_type": "code",
   "execution_count": 24,
   "metadata": {},
   "outputs": [],
   "source": [
    "data = Dataset.load_from_df(data_df, reader)"
   ]
  },
  {
   "cell_type": "code",
   "execution_count": 25,
   "metadata": {},
   "outputs": [
    {
     "ename": "KeyboardInterrupt",
     "evalue": "",
     "output_type": "error",
     "traceback": [
      "\u001b[0;31m---------------------------------------------------------------------------\u001b[0m",
      "\u001b[0;31mKeyboardInterrupt\u001b[0m                         Traceback (most recent call last)",
      "Cell \u001b[0;32mIn [25], line 2\u001b[0m\n\u001b[1;32m      1\u001b[0m \u001b[38;5;66;03m# J'essaie de cross-validate, pour voir le score du modèle sans aucune optimisation\u001b[39;00m\n\u001b[0;32m----> 2\u001b[0m \u001b[43mcross_validate\u001b[49m\u001b[43m(\u001b[49m\u001b[43mmodel\u001b[49m\u001b[43m,\u001b[49m\u001b[43m \u001b[49m\u001b[43mdata\u001b[49m\u001b[43m,\u001b[49m\u001b[43m \u001b[49m\u001b[43mmeasures\u001b[49m\u001b[38;5;241;43m=\u001b[39;49m\u001b[43m[\u001b[49m\u001b[38;5;124;43m'\u001b[39;49m\u001b[38;5;124;43mRMSE\u001b[39;49m\u001b[38;5;124;43m'\u001b[39;49m\u001b[43m]\u001b[49m\u001b[43m,\u001b[49m\u001b[43m \u001b[49m\u001b[43mcv\u001b[49m\u001b[38;5;241;43m=\u001b[39;49m\u001b[38;5;241;43m5\u001b[39;49m\u001b[43m,\u001b[49m\u001b[43m \u001b[49m\u001b[43mverbose\u001b[49m\u001b[38;5;241;43m=\u001b[39;49m\u001b[38;5;28;43;01mTrue\u001b[39;49;00m\u001b[43m)\u001b[49m\n",
      "File \u001b[0;32m~/.pyenv/versions/3.8.12/envs/reco_fourche/lib/python3.8/site-packages/surprise/model_selection/validation.py:108\u001b[0m, in \u001b[0;36mcross_validate\u001b[0;34m(algo, data, measures, cv, return_train_measures, n_jobs, pre_dispatch, verbose)\u001b[0m\n\u001b[1;32m    102\u001b[0m cv \u001b[38;5;241m=\u001b[39m get_cv(cv)\n\u001b[1;32m    104\u001b[0m delayed_list \u001b[38;5;241m=\u001b[39m (\n\u001b[1;32m    105\u001b[0m     delayed(fit_and_score)(algo, trainset, testset, measures, return_train_measures)\n\u001b[1;32m    106\u001b[0m     \u001b[38;5;28;01mfor\u001b[39;00m (trainset, testset) \u001b[38;5;129;01min\u001b[39;00m cv\u001b[38;5;241m.\u001b[39msplit(data)\n\u001b[1;32m    107\u001b[0m )\n\u001b[0;32m--> 108\u001b[0m out \u001b[38;5;241m=\u001b[39m \u001b[43mParallel\u001b[49m\u001b[43m(\u001b[49m\u001b[43mn_jobs\u001b[49m\u001b[38;5;241;43m=\u001b[39;49m\u001b[43mn_jobs\u001b[49m\u001b[43m,\u001b[49m\u001b[43m \u001b[49m\u001b[43mpre_dispatch\u001b[49m\u001b[38;5;241;43m=\u001b[39;49m\u001b[43mpre_dispatch\u001b[49m\u001b[43m)\u001b[49m\u001b[43m(\u001b[49m\u001b[43mdelayed_list\u001b[49m\u001b[43m)\u001b[49m\n\u001b[1;32m    110\u001b[0m (test_measures_dicts, train_measures_dicts, fit_times, test_times) \u001b[38;5;241m=\u001b[39m \u001b[38;5;28mzip\u001b[39m(\u001b[38;5;241m*\u001b[39mout)\n\u001b[1;32m    112\u001b[0m test_measures \u001b[38;5;241m=\u001b[39m \u001b[38;5;28mdict\u001b[39m()\n",
      "File \u001b[0;32m~/.pyenv/versions/3.8.12/envs/reco_fourche/lib/python3.8/site-packages/joblib/parallel.py:1046\u001b[0m, in \u001b[0;36mParallel.__call__\u001b[0;34m(self, iterable)\u001b[0m\n\u001b[1;32m   1043\u001b[0m \u001b[38;5;28;01mif\u001b[39;00m \u001b[38;5;28mself\u001b[39m\u001b[38;5;241m.\u001b[39mdispatch_one_batch(iterator):\n\u001b[1;32m   1044\u001b[0m     \u001b[38;5;28mself\u001b[39m\u001b[38;5;241m.\u001b[39m_iterating \u001b[38;5;241m=\u001b[39m \u001b[38;5;28mself\u001b[39m\u001b[38;5;241m.\u001b[39m_original_iterator \u001b[38;5;129;01mis\u001b[39;00m \u001b[38;5;129;01mnot\u001b[39;00m \u001b[38;5;28;01mNone\u001b[39;00m\n\u001b[0;32m-> 1046\u001b[0m \u001b[38;5;28;01mwhile\u001b[39;00m \u001b[38;5;28;43mself\u001b[39;49m\u001b[38;5;241;43m.\u001b[39;49m\u001b[43mdispatch_one_batch\u001b[49m\u001b[43m(\u001b[49m\u001b[43miterator\u001b[49m\u001b[43m)\u001b[49m:\n\u001b[1;32m   1047\u001b[0m     \u001b[38;5;28;01mpass\u001b[39;00m\n\u001b[1;32m   1049\u001b[0m \u001b[38;5;28;01mif\u001b[39;00m pre_dispatch \u001b[38;5;241m==\u001b[39m \u001b[38;5;124m\"\u001b[39m\u001b[38;5;124mall\u001b[39m\u001b[38;5;124m\"\u001b[39m \u001b[38;5;129;01mor\u001b[39;00m n_jobs \u001b[38;5;241m==\u001b[39m \u001b[38;5;241m1\u001b[39m:\n\u001b[1;32m   1050\u001b[0m     \u001b[38;5;66;03m# The iterable was consumed all at once by the above for loop.\u001b[39;00m\n\u001b[1;32m   1051\u001b[0m     \u001b[38;5;66;03m# No need to wait for async callbacks to trigger to\u001b[39;00m\n\u001b[1;32m   1052\u001b[0m     \u001b[38;5;66;03m# consumption.\u001b[39;00m\n",
      "File \u001b[0;32m~/.pyenv/versions/3.8.12/envs/reco_fourche/lib/python3.8/site-packages/joblib/parallel.py:861\u001b[0m, in \u001b[0;36mParallel.dispatch_one_batch\u001b[0;34m(self, iterator)\u001b[0m\n\u001b[1;32m    859\u001b[0m     \u001b[38;5;28;01mreturn\u001b[39;00m \u001b[38;5;28;01mFalse\u001b[39;00m\n\u001b[1;32m    860\u001b[0m \u001b[38;5;28;01melse\u001b[39;00m:\n\u001b[0;32m--> 861\u001b[0m     \u001b[38;5;28;43mself\u001b[39;49m\u001b[38;5;241;43m.\u001b[39;49m\u001b[43m_dispatch\u001b[49m\u001b[43m(\u001b[49m\u001b[43mtasks\u001b[49m\u001b[43m)\u001b[49m\n\u001b[1;32m    862\u001b[0m     \u001b[38;5;28;01mreturn\u001b[39;00m \u001b[38;5;28;01mTrue\u001b[39;00m\n",
      "File \u001b[0;32m~/.pyenv/versions/3.8.12/envs/reco_fourche/lib/python3.8/site-packages/joblib/parallel.py:779\u001b[0m, in \u001b[0;36mParallel._dispatch\u001b[0;34m(self, batch)\u001b[0m\n\u001b[1;32m    777\u001b[0m \u001b[38;5;28;01mwith\u001b[39;00m \u001b[38;5;28mself\u001b[39m\u001b[38;5;241m.\u001b[39m_lock:\n\u001b[1;32m    778\u001b[0m     job_idx \u001b[38;5;241m=\u001b[39m \u001b[38;5;28mlen\u001b[39m(\u001b[38;5;28mself\u001b[39m\u001b[38;5;241m.\u001b[39m_jobs)\n\u001b[0;32m--> 779\u001b[0m     job \u001b[38;5;241m=\u001b[39m \u001b[38;5;28;43mself\u001b[39;49m\u001b[38;5;241;43m.\u001b[39;49m\u001b[43m_backend\u001b[49m\u001b[38;5;241;43m.\u001b[39;49m\u001b[43mapply_async\u001b[49m\u001b[43m(\u001b[49m\u001b[43mbatch\u001b[49m\u001b[43m,\u001b[49m\u001b[43m \u001b[49m\u001b[43mcallback\u001b[49m\u001b[38;5;241;43m=\u001b[39;49m\u001b[43mcb\u001b[49m\u001b[43m)\u001b[49m\n\u001b[1;32m    780\u001b[0m     \u001b[38;5;66;03m# A job can complete so quickly than its callback is\u001b[39;00m\n\u001b[1;32m    781\u001b[0m     \u001b[38;5;66;03m# called before we get here, causing self._jobs to\u001b[39;00m\n\u001b[1;32m    782\u001b[0m     \u001b[38;5;66;03m# grow. To ensure correct results ordering, .insert is\u001b[39;00m\n\u001b[1;32m    783\u001b[0m     \u001b[38;5;66;03m# used (rather than .append) in the following line\u001b[39;00m\n\u001b[1;32m    784\u001b[0m     \u001b[38;5;28mself\u001b[39m\u001b[38;5;241m.\u001b[39m_jobs\u001b[38;5;241m.\u001b[39minsert(job_idx, job)\n",
      "File \u001b[0;32m~/.pyenv/versions/3.8.12/envs/reco_fourche/lib/python3.8/site-packages/joblib/_parallel_backends.py:208\u001b[0m, in \u001b[0;36mSequentialBackend.apply_async\u001b[0;34m(self, func, callback)\u001b[0m\n\u001b[1;32m    206\u001b[0m \u001b[38;5;28;01mdef\u001b[39;00m \u001b[38;5;21mapply_async\u001b[39m(\u001b[38;5;28mself\u001b[39m, func, callback\u001b[38;5;241m=\u001b[39m\u001b[38;5;28;01mNone\u001b[39;00m):\n\u001b[1;32m    207\u001b[0m     \u001b[38;5;124;03m\"\"\"Schedule a func to be run\"\"\"\u001b[39;00m\n\u001b[0;32m--> 208\u001b[0m     result \u001b[38;5;241m=\u001b[39m \u001b[43mImmediateResult\u001b[49m\u001b[43m(\u001b[49m\u001b[43mfunc\u001b[49m\u001b[43m)\u001b[49m\n\u001b[1;32m    209\u001b[0m     \u001b[38;5;28;01mif\u001b[39;00m callback:\n\u001b[1;32m    210\u001b[0m         callback(result)\n",
      "File \u001b[0;32m~/.pyenv/versions/3.8.12/envs/reco_fourche/lib/python3.8/site-packages/joblib/_parallel_backends.py:572\u001b[0m, in \u001b[0;36mImmediateResult.__init__\u001b[0;34m(self, batch)\u001b[0m\n\u001b[1;32m    569\u001b[0m \u001b[38;5;28;01mdef\u001b[39;00m \u001b[38;5;21m__init__\u001b[39m(\u001b[38;5;28mself\u001b[39m, batch):\n\u001b[1;32m    570\u001b[0m     \u001b[38;5;66;03m# Don't delay the application, to avoid keeping the input\u001b[39;00m\n\u001b[1;32m    571\u001b[0m     \u001b[38;5;66;03m# arguments in memory\u001b[39;00m\n\u001b[0;32m--> 572\u001b[0m     \u001b[38;5;28mself\u001b[39m\u001b[38;5;241m.\u001b[39mresults \u001b[38;5;241m=\u001b[39m \u001b[43mbatch\u001b[49m\u001b[43m(\u001b[49m\u001b[43m)\u001b[49m\n",
      "File \u001b[0;32m~/.pyenv/versions/3.8.12/envs/reco_fourche/lib/python3.8/site-packages/joblib/parallel.py:262\u001b[0m, in \u001b[0;36mBatchedCalls.__call__\u001b[0;34m(self)\u001b[0m\n\u001b[1;32m    258\u001b[0m \u001b[38;5;28;01mdef\u001b[39;00m \u001b[38;5;21m__call__\u001b[39m(\u001b[38;5;28mself\u001b[39m):\n\u001b[1;32m    259\u001b[0m     \u001b[38;5;66;03m# Set the default nested backend to self._backend but do not set the\u001b[39;00m\n\u001b[1;32m    260\u001b[0m     \u001b[38;5;66;03m# change the default number of processes to -1\u001b[39;00m\n\u001b[1;32m    261\u001b[0m     \u001b[38;5;28;01mwith\u001b[39;00m parallel_backend(\u001b[38;5;28mself\u001b[39m\u001b[38;5;241m.\u001b[39m_backend, n_jobs\u001b[38;5;241m=\u001b[39m\u001b[38;5;28mself\u001b[39m\u001b[38;5;241m.\u001b[39m_n_jobs):\n\u001b[0;32m--> 262\u001b[0m         \u001b[38;5;28;01mreturn\u001b[39;00m [func(\u001b[38;5;241m*\u001b[39margs, \u001b[38;5;241m*\u001b[39m\u001b[38;5;241m*\u001b[39mkwargs)\n\u001b[1;32m    263\u001b[0m                 \u001b[38;5;28;01mfor\u001b[39;00m func, args, kwargs \u001b[38;5;129;01min\u001b[39;00m \u001b[38;5;28mself\u001b[39m\u001b[38;5;241m.\u001b[39mitems]\n",
      "File \u001b[0;32m~/.pyenv/versions/3.8.12/envs/reco_fourche/lib/python3.8/site-packages/joblib/parallel.py:262\u001b[0m, in \u001b[0;36m<listcomp>\u001b[0;34m(.0)\u001b[0m\n\u001b[1;32m    258\u001b[0m \u001b[38;5;28;01mdef\u001b[39;00m \u001b[38;5;21m__call__\u001b[39m(\u001b[38;5;28mself\u001b[39m):\n\u001b[1;32m    259\u001b[0m     \u001b[38;5;66;03m# Set the default nested backend to self._backend but do not set the\u001b[39;00m\n\u001b[1;32m    260\u001b[0m     \u001b[38;5;66;03m# change the default number of processes to -1\u001b[39;00m\n\u001b[1;32m    261\u001b[0m     \u001b[38;5;28;01mwith\u001b[39;00m parallel_backend(\u001b[38;5;28mself\u001b[39m\u001b[38;5;241m.\u001b[39m_backend, n_jobs\u001b[38;5;241m=\u001b[39m\u001b[38;5;28mself\u001b[39m\u001b[38;5;241m.\u001b[39m_n_jobs):\n\u001b[0;32m--> 262\u001b[0m         \u001b[38;5;28;01mreturn\u001b[39;00m [\u001b[43mfunc\u001b[49m\u001b[43m(\u001b[49m\u001b[38;5;241;43m*\u001b[39;49m\u001b[43margs\u001b[49m\u001b[43m,\u001b[49m\u001b[43m \u001b[49m\u001b[38;5;241;43m*\u001b[39;49m\u001b[38;5;241;43m*\u001b[39;49m\u001b[43mkwargs\u001b[49m\u001b[43m)\u001b[49m\n\u001b[1;32m    263\u001b[0m                 \u001b[38;5;28;01mfor\u001b[39;00m func, args, kwargs \u001b[38;5;129;01min\u001b[39;00m \u001b[38;5;28mself\u001b[39m\u001b[38;5;241m.\u001b[39mitems]\n",
      "File \u001b[0;32m~/.pyenv/versions/3.8.12/envs/reco_fourche/lib/python3.8/site-packages/surprise/model_selection/validation.py:173\u001b[0m, in \u001b[0;36mfit_and_score\u001b[0;34m(algo, trainset, testset, measures, return_train_measures)\u001b[0m\n\u001b[1;32m    142\u001b[0m \u001b[38;5;124;03m\"\"\"Helper method that trains an algorithm and compute accuracy measures on\u001b[39;00m\n\u001b[1;32m    143\u001b[0m \u001b[38;5;124;03ma testset. Also report train and test times.\u001b[39;00m\n\u001b[1;32m    144\u001b[0m \n\u001b[0;32m   (...)\u001b[0m\n\u001b[1;32m    169\u001b[0m \u001b[38;5;124;03m        - The testing time in seconds.\u001b[39;00m\n\u001b[1;32m    170\u001b[0m \u001b[38;5;124;03m\"\"\"\u001b[39;00m\n\u001b[1;32m    172\u001b[0m start_fit \u001b[38;5;241m=\u001b[39m time\u001b[38;5;241m.\u001b[39mtime()\n\u001b[0;32m--> 173\u001b[0m \u001b[43malgo\u001b[49m\u001b[38;5;241;43m.\u001b[39;49m\u001b[43mfit\u001b[49m\u001b[43m(\u001b[49m\u001b[43mtrainset\u001b[49m\u001b[43m)\u001b[49m\n\u001b[1;32m    174\u001b[0m fit_time \u001b[38;5;241m=\u001b[39m time\u001b[38;5;241m.\u001b[39mtime() \u001b[38;5;241m-\u001b[39m start_fit\n\u001b[1;32m    175\u001b[0m start_test \u001b[38;5;241m=\u001b[39m time\u001b[38;5;241m.\u001b[39mtime()\n",
      "File \u001b[0;32m~/.pyenv/versions/3.8.12/envs/reco_fourche/lib/python3.8/site-packages/surprise/prediction_algorithms/matrix_factorization.pyx:155\u001b[0m, in \u001b[0;36msurprise.prediction_algorithms.matrix_factorization.SVD.fit\u001b[0;34m()\u001b[0m\n",
      "File \u001b[0;32m~/.pyenv/versions/3.8.12/envs/reco_fourche/lib/python3.8/site-packages/surprise/prediction_algorithms/matrix_factorization.pyx:228\u001b[0m, in \u001b[0;36msurprise.prediction_algorithms.matrix_factorization.SVD.sgd\u001b[0;34m()\u001b[0m\n",
      "File \u001b[0;32m~/.pyenv/versions/3.8.12/envs/reco_fourche/lib/python3.8/site-packages/surprise/trainset.py:194\u001b[0m, in \u001b[0;36mTrainset.all_ratings\u001b[0;34m(self)\u001b[0m\n\u001b[1;32m    192\u001b[0m \u001b[38;5;28;01mfor\u001b[39;00m u, u_ratings \u001b[38;5;129;01min\u001b[39;00m \u001b[38;5;28mself\u001b[39m\u001b[38;5;241m.\u001b[39mur\u001b[38;5;241m.\u001b[39mitems():\n\u001b[1;32m    193\u001b[0m     \u001b[38;5;28;01mfor\u001b[39;00m i, r \u001b[38;5;129;01min\u001b[39;00m u_ratings:\n\u001b[0;32m--> 194\u001b[0m         \u001b[38;5;28;01myield\u001b[39;00m u, i, r\n",
      "\u001b[0;31mKeyboardInterrupt\u001b[0m: "
     ]
    }
   ],
   "source": [
    "# J'essaie de cross-validate, pour voir le score du modèle sans aucune optimisation\n",
    "cross_validate(model, data, measures=['RMSE'], cv=5, verbose=True)"
   ]
  },
  {
   "cell_type": "code",
   "execution_count": 26,
   "metadata": {},
   "outputs": [],
   "source": [
    "# On va faire un training à la main.\n",
    "# On sépare train et test set\n",
    "trainset, testset = train_test_split(data, test_size=0.25)\n"
   ]
  },
  {
   "cell_type": "code",
   "execution_count": 27,
   "metadata": {},
   "outputs": [
    {
     "data": {
      "text/plain": [
       "<surprise.prediction_algorithms.matrix_factorization.SVD at 0x7f6fbf1c6070>"
      ]
     },
     "execution_count": 27,
     "metadata": {},
     "output_type": "execute_result"
    }
   ],
   "source": [
    "# On fit le model\n",
    "model.fit(trainset)\n"
   ]
  },
  {
   "cell_type": "code",
   "execution_count": 28,
   "metadata": {},
   "outputs": [],
   "source": [
    "# On fait des prédictions\n",
    "predictions = model.test(testset)\n"
   ]
  },
  {
   "cell_type": "code",
   "execution_count": 29,
   "metadata": {},
   "outputs": [
    {
     "name": "stdout",
     "output_type": "stream",
     "text": [
      "RMSE: 0.3846\n"
     ]
    },
    {
     "data": {
      "text/plain": [
       "0.3846067308702246"
      ]
     },
     "execution_count": 29,
     "metadata": {},
     "output_type": "execute_result"
    }
   ],
   "source": [
    "# Résultat\n",
    "rmse(predictions)\n"
   ]
  },
  {
   "cell_type": "code",
   "execution_count": 30,
   "metadata": {},
   "outputs": [
    {
     "name": "stdout",
     "output_type": "stream",
     "text": [
      "MAE:  0.3199\n"
     ]
    },
    {
     "data": {
      "text/plain": [
       "0.3199418981944055"
      ]
     },
     "execution_count": 30,
     "metadata": {},
     "output_type": "execute_result"
    }
   ],
   "source": [
    "mae(predictions)\n"
   ]
  },
  {
   "cell_type": "code",
   "execution_count": 31,
   "metadata": {},
   "outputs": [
    {
     "data": {
      "text/plain": [
       "Prediction(uid='h6IvomPZxOTKuKGuvS8b3nZrzVk2', iid='4-LAV-100', r_ui=None, est=0.15773923877754428, details={'was_impossible': False})"
      ]
     },
     "execution_count": 31,
     "metadata": {},
     "output_type": "execute_result"
    }
   ],
   "source": [
    "# On peut faire des prédictions de score, pour un customer et un produit au hasard\n",
    "# .est -> renvoie le score attendu\n",
    "model.predict('h6IvomPZxOTKuKGuvS8b3nZrzVk2', '4-LAV-100')\n"
   ]
  },
  {
   "cell_type": "code",
   "execution_count": 32,
   "metadata": {},
   "outputs": [
    {
     "data": {
      "text/plain": [
       "0.35753883114645557"
      ]
     },
     "execution_count": 32,
     "metadata": {},
     "output_type": "execute_result"
    }
   ],
   "source": [
    "model.predict('00HCaCqtG9aMGVCDyBUbvzIzY073', '1-FAV-133')[3]\n"
   ]
  },
  {
   "cell_type": "code",
   "execution_count": 33,
   "metadata": {},
   "outputs": [
    {
     "data": {
      "text/plain": [
       "array(['1-CTR-103', '2-END-103', '1-LIM-136', ..., '1-COQ-118',\n",
       "       '1-SAV-115', '4-AVI-178'], dtype=object)"
      ]
     },
     "execution_count": 33,
     "metadata": {},
     "output_type": "execute_result"
    }
   ],
   "source": [
    "# Est-ce qu'on peut prédire l'item qui aura la meilleur note ?\n",
    "# Il faut appeler model.predict() sur tous les items, et choisir les meilleurs notes\n",
    "CUSTOMER_ID = 'h6IvomPZxOTKuKGuvS8b3nZrzVk2'  # On choisit un customer\n",
    "scores_for_customer = all_skus.copy()\n",
    "scores_for_customer\n"
   ]
  },
  {
   "cell_type": "code",
   "execution_count": 34,
   "metadata": {},
   "outputs": [
    {
     "data": {
      "text/plain": [
       "['4-BOF-124',\n",
       " '3-PAP-102',\n",
       " '1-BID-121',\n",
       " '6-RIS-103',\n",
       " '1-ELB-104',\n",
       " '4-LAF-124',\n",
       " '4-GRA-105',\n",
       " '1-BID-122',\n",
       " '1-ELB-100',\n",
       " '6-BRO-102',\n",
       " '4-NTV-105',\n",
       " '6-BOF-103',\n",
       " '4-BOF-119',\n",
       " '4-CLN-112',\n",
       " '4-LAF-117',\n",
       " '6-GAB-101',\n",
       " '4-BOF-131',\n",
       " '6-BRO-101',\n",
       " '4-LAF-140',\n",
       " '4-BOF-129',\n",
       " '4-BOF-126',\n",
       " '4-BOF-133',\n",
       " '6-CAS-101',\n",
       " '1-SUC-103',\n",
       " '4-LAF-122',\n",
       " '4-BOF-125',\n",
       " '4-BOF-141',\n",
       " '4-LAF-126',\n",
       " '6-COT-105',\n",
       " '3-GRZ-103',\n",
       " '6-CAS-105',\n",
       " '6-DEA-102',\n",
       " '6-EVE-104',\n",
       " '6-SOF-104',\n",
       " '4-BOF-113',\n",
       " '6-VDG-103',\n",
       " '1-ACP-101',\n",
       " '4-LCV-104',\n",
       " '1-BID-102',\n",
       " '6-RIS-105',\n",
       " '4-BOF-132',\n",
       " '1-NTV-151',\n",
       " '1-MOM-116',\n",
       " '6-DAV-101',\n",
       " '1-SNT-103',\n",
       " '4-BOF-137',\n",
       " '6-VDG-101',\n",
       " '4-BOF-144',\n",
       " '4-COS-141',\n",
       " '6-CAS-102',\n",
       " '1-ACP-102',\n",
       " '1-BON-106',\n",
       " '1-PHL-155',\n",
       " '1-BPT-118',\n",
       " '6-LCN-102',\n",
       " '1-NTV-156',\n",
       " '6-LSD-105',\n",
       " '4-GRA-102',\n",
       " '1-SOY-112',\n",
       " '1-ATR-124',\n",
       " '1-BPT-111',\n",
       " '1-LIM-136',\n",
       " '4-NTV-104',\n",
       " '1-ECM-114',\n",
       " '6-VDG-102',\n",
       " '4-BOF-138',\n",
       " '1-NOC-102',\n",
       " '1-BPT-125',\n",
       " '6-EVE-103',\n",
       " '4-LAF-166',\n",
       " '4-BOF-134',\n",
       " '1-LUC-115',\n",
       " '1-CNT-133',\n",
       " '4-LAF-120',\n",
       " '1-LAF-104',\n",
       " '6-SOF-103',\n",
       " '6-CAF-104',\n",
       " '4-NTV-103',\n",
       " '3-PAP-101',\n",
       " '1-ECK-102',\n",
       " '3-GRZ-104',\n",
       " '1-MOM-101',\n",
       " '4-BOF-120',\n",
       " '6-EVE-107',\n",
       " '4-BOF-130',\n",
       " '6-NAT-102',\n",
       " '6-DAV-102',\n",
       " '6-BOI-104',\n",
       " '6-BOI-101',\n",
       " '6-CAS-106',\n",
       " '6-VDG-109',\n",
       " '6-BRO-105',\n",
       " '1-PHL-183',\n",
       " '4-GRA-115',\n",
       " '1-BPT-106',\n",
       " '1-ELB-102',\n",
       " '3-ECV-109',\n",
       " '4-SLF-100',\n",
       " '1-ELB-103',\n",
       " '4-BOF-142',\n",
       " '1-LAF-105',\n",
       " '1-PUR-112',\n",
       " '1-CNT-119',\n",
       " '1-CLT-105',\n",
       " '4-CLN-103',\n",
       " '6-BRO-103',\n",
       " '1-ECM-109',\n",
       " '1-BID-104',\n",
       " '3-ECI-103',\n",
       " '1-LUC-103',\n",
       " '6-SOF-105',\n",
       " '1-VTM-134',\n",
       " '4-LAF-131',\n",
       " '6-CAS-104',\n",
       " '6-EUR-101',\n",
       " '4-LAF-114',\n",
       " '4-ATM-100',\n",
       " '1-ELB-118',\n",
       " '4-BOF-103',\n",
       " '3-EDL-103',\n",
       " '6-VDG-105',\n",
       " '1-GDN-102',\n",
       " '1-GRI-125',\n",
       " '1-ECK-111',\n",
       " '6-RIS-101',\n",
       " '4-LAF-133',\n",
       " '1-GDN-101',\n",
       " '4-LAF-125',\n",
       " '1-MPI-105',\n",
       " '1-LIM-113',\n",
       " '8-BHO-101',\n",
       " '6-CBI-102',\n",
       " '6-CAS-107',\n",
       " '1-PRO-145',\n",
       " '1-CNT-113',\n",
       " '4-LAF-142',\n",
       " '1-PHL-156',\n",
       " '1-LIM-101',\n",
       " '6-CAS-103',\n",
       " '1-ELB-105',\n",
       " '6-DEA-101',\n",
       " '6-LOU-103',\n",
       " '4-LAF-132',\n",
       " '1-BPT-104',\n",
       " '6-EVE-108',\n",
       " '1-MIC-111',\n",
       " '4-GRA-101',\n",
       " '1-ECK-109',\n",
       " '1-PHL-184',\n",
       " '8-GDN-105',\n",
       " '6-CRE-101',\n",
       " '1-PHL-172',\n",
       " '4-CLN-113',\n",
       " '6-SOF-101',\n",
       " '6-CAF-106',\n",
       " '1-LUC-106',\n",
       " '1-LAZ-107',\n",
       " '1-KAO-109',\n",
       " '7-GIF-119',\n",
       " '4-LAF-165',\n",
       " '4-BOF-112',\n",
       " '1-ACN-108',\n",
       " '1-PRO-117',\n",
       " '1-LFB-102',\n",
       " '8-BOF-107',\n",
       " '4-GRA-106',\n",
       " '4-LAF-182',\n",
       " '1-LIM-126',\n",
       " '6-LSD-108',\n",
       " '6-VDG-106',\n",
       " '2-TID-103',\n",
       " '3-SNT-101',\n",
       " '4-CLN-111',\n",
       " '1-CLN-132',\n",
       " '1-ECK-113',\n",
       " '8-GDN-104',\n",
       " '4-BOF-139',\n",
       " '1-PHL-117',\n",
       " '1-PRO-135',\n",
       " '1-GRI-127',\n",
       " '1-ACN-113',\n",
       " '1-ELB-114',\n",
       " '4-AVI-105',\n",
       " '1-ATR-110',\n",
       " '4-LAF-107',\n",
       " '1-ATR-108',\n",
       " '4-CLN-118',\n",
       " '1-JOA-101',\n",
       " '1-BPT-105',\n",
       " '1-JHE-114',\n",
       " '1-CAP-101',\n",
       " '1-CNT-131',\n",
       " '4-LAF-108',\n",
       " '6-EVE-105',\n",
       " '1-BPT-138',\n",
       " '3-GRA-198',\n",
       " '4-LAF-135',\n",
       " '1-PHL-160',\n",
       " '4-NTC-102',\n",
       " '6-BOI-102',\n",
       " '6-VDG-108',\n",
       " '1-NTV-161',\n",
       " '4-GRA-112',\n",
       " '1-PRO-133',\n",
       " '6-LSD-103',\n",
       " '6-NAT-104',\n",
       " '6-LCN-101',\n",
       " '1-ELB-101',\n",
       " '1-BPT-117',\n",
       " '1-PHL-116',\n",
       " '4-LAF-170',\n",
       " '1-JHE-101',\n",
       " '1-ELB-117',\n",
       " '1-GDN-103',\n",
       " '6-COT-104',\n",
       " '6-EUR-103',\n",
       " '6-VDG-104',\n",
       " '2-LOV-115',\n",
       " '6-LOU-101',\n",
       " '4-CLN-104',\n",
       " '1-MPI-109',\n",
       " '1-LAF-106',\n",
       " '1-PUR-162',\n",
       " '1-ECM-119',\n",
       " '1-RAI-101',\n",
       " '1-BON-103',\n",
       " '6-EVE-101',\n",
       " '1-CLS-101',\n",
       " '4-AVI-149',\n",
       " '1-BPT-101',\n",
       " '1-BPT-126',\n",
       " '1-CLN-130',\n",
       " '4-BOF-102',\n",
       " '1-PRO-121',\n",
       " '1-MPI-111',\n",
       " '4-LCV-103',\n",
       " '4-LAF-116',\n",
       " '6-LSD-106',\n",
       " '1-KAO-110',\n",
       " '1-VIT-115',\n",
       " '1-KAO-108',\n",
       " '1-CLV-115',\n",
       " '1-KAO-113',\n",
       " '1-PHL-128',\n",
       " '4-LOG-147',\n",
       " '4-BOF-123',\n",
       " '4-LAF-155',\n",
       " '1-ANG-112',\n",
       " '6-CER-101',\n",
       " '1-MRN-106',\n",
       " '1-NAJ-103',\n",
       " '1-MLB-110',\n",
       " '6-BRO-104',\n",
       " '4-LAF-164',\n",
       " '1-PUR-158',\n",
       " '4-AVI-168',\n",
       " '6-COT-103',\n",
       " '1-PRO-130',\n",
       " '1-BPL-106',\n",
       " '1-SAT-128',\n",
       " '4-CLN-110',\n",
       " '1-CNT-108',\n",
       " '1-VIT-113',\n",
       " '1-BPL-103',\n",
       " '6-CAF-105',\n",
       " '6-COT-101',\n",
       " '1-NOC-104',\n",
       " '6-VDG-107',\n",
       " '1-DPF-113',\n",
       " '6-DEA-103',\n",
       " '1-GRI-101',\n",
       " '1-ECK-122',\n",
       " '1-ADS-146',\n",
       " '6-COT-102',\n",
       " '1-MAK-151',\n",
       " '1-NTV-168',\n",
       " '4-BOF-121',\n",
       " '1-LIM-102',\n",
       " '3-IYC-102',\n",
       " '1-PRO-157',\n",
       " '1-CAP-102',\n",
       " '1-PHL-114',\n",
       " '3-BDO-103',\n",
       " '1-DAN-102',\n",
       " '8-ELB-101',\n",
       " '6-LOU-102',\n",
       " '1-NTA-101',\n",
       " '1-MPI-119',\n",
       " '1-PUR-151',\n",
       " '6-RIS-104',\n",
       " '1-CLT-104',\n",
       " '1-ATR-128',\n",
       " '4-BOF-135',\n",
       " '1-ELB-107',\n",
       " '8-VLF-107',\n",
       " '1-BPT-114',\n",
       " '1-CNT-125',\n",
       " '6-VDG-112',\n",
       " '1-GRI-104',\n",
       " '1-NTF-104',\n",
       " '1-PRO-141',\n",
       " '3-GRA-196',\n",
       " '1-ECK-107',\n",
       " '1-MOM-119',\n",
       " '1-NTF-101',\n",
       " '6-EVE-102',\n",
       " '4-AVI-101',\n",
       " '7-GIF-123',\n",
       " '1-DPF-111',\n",
       " '2-TID-111',\n",
       " '4-BOF-106',\n",
       " '1-MOM-113',\n",
       " '1-MOM-117',\n",
       " '1-MPI-117',\n",
       " '8-GRI-104',\n",
       " '1-PRO-119',\n",
       " '2-TID-114',\n",
       " '3-SDP-101',\n",
       " '1-NTV-157',\n",
       " '1-NTV-163',\n",
       " '3-ECV-108',\n",
       " '1-VTM-123',\n",
       " '6-LCN-103',\n",
       " '1-COK-124',\n",
       " '6-COT-106',\n",
       " '1-BPT-121',\n",
       " '2-END-106',\n",
       " '1-ACN-106',\n",
       " '1-MMB-103',\n",
       " '1-LIM-135',\n",
       " '1-PRO-111',\n",
       " '1-BID-105',\n",
       " '1-ADS-106',\n",
       " '1-ECM-115',\n",
       " '6-CBI-106',\n",
       " '1-JET-101',\n",
       " '6-EVE-106',\n",
       " '4-LAF-186',\n",
       " '6-CAF-101',\n",
       " '4-ATM-103',\n",
       " '1-MAK-144',\n",
       " '1-NTF-102',\n",
       " '1-VTM-126',\n",
       " '1-ACN-116',\n",
       " '1-ABO-103',\n",
       " '1-LAZ-112',\n",
       " '4-CLN-121',\n",
       " '4-GRA-103',\n",
       " '1-NTV-160',\n",
       " '4-GRA-107',\n",
       " '1-ECK-126',\n",
       " '1-CNT-101',\n",
       " '1-PRO-132',\n",
       " '4-LAF-160',\n",
       " '4-NTC-105',\n",
       " '1-BPL-102',\n",
       " '1-ECV-121',\n",
       " '1-PRO-151',\n",
       " '1-COK-121',\n",
       " '4-LAF-138',\n",
       " '1-EMN-122',\n",
       " '8-RES-102',\n",
       " '1-MPI-132',\n",
       " '1-ECK-106',\n",
       " '1-MLB-104',\n",
       " '1-VIT-114',\n",
       " '1-ECM-112',\n",
       " '1-PHL-173',\n",
       " '1-KAO-115',\n",
       " '1-PRO-147',\n",
       " '1-CLN-166',\n",
       " '1-PHL-106',\n",
       " '1-BPT-133',\n",
       " '1-PHL-124',\n",
       " '8-VLF-108',\n",
       " '3-GRA-116',\n",
       " '8-ILB-103',\n",
       " '1-CNT-129',\n",
       " '1-PRO-104',\n",
       " '3-MAP-111',\n",
       " '1-LAZ-121',\n",
       " '4-NTC-106',\n",
       " '1-KAO-114',\n",
       " '1-ACN-107',\n",
       " '1-JHE-122',\n",
       " '1-ATR-103',\n",
       " '1-LIM-147',\n",
       " '1-MOM-109',\n",
       " '1-NOC-101',\n",
       " '1-BID-114',\n",
       " '1-JET-102',\n",
       " '6-SOF-102',\n",
       " '1-NTF-108',\n",
       " '4-LAF-172',\n",
       " '6-LSD-107',\n",
       " '1-ELB-110',\n",
       " '8-ILB-106',\n",
       " '1-ECK-114',\n",
       " '2-TID-108',\n",
       " '1-LIM-145',\n",
       " '1-MPI-112',\n",
       " '1-LUC-124',\n",
       " '1-PHL-188',\n",
       " '1-PHL-109',\n",
       " '6-CAF-103',\n",
       " '1-NTV-137',\n",
       " '1-DAN-119',\n",
       " '1-KAO-104',\n",
       " '1-PHL-159',\n",
       " '5-CLN-103',\n",
       " '1-MOM-102',\n",
       " '1-PRO-181',\n",
       " '1-PRO-161',\n",
       " '8-VLF-104',\n",
       " '1-ELB-115',\n",
       " '1-PRO-171',\n",
       " '1-ABO-105',\n",
       " '1-NTV-162',\n",
       " '1-LIM-154',\n",
       " '4-LAF-151',\n",
       " '1-PHL-130',\n",
       " '1-BPT-115',\n",
       " '4-LAF-144',\n",
       " '1-DAN-130',\n",
       " '1-COK-107',\n",
       " '1-CLN-109',\n",
       " '1-ECK-120',\n",
       " '4-LOG-146',\n",
       " '1-LSV-101',\n",
       " '6-BOI-103',\n",
       " '4-LAF-159',\n",
       " '6-CBI-101',\n",
       " '1-PRO-114',\n",
       " '1-FAV-113',\n",
       " '4-AVI-108',\n",
       " '4-LAF-115',\n",
       " '6-CBI-104',\n",
       " '8-LCM-119',\n",
       " '1-LUC-102',\n",
       " '1-LAZ-104',\n",
       " '4-LAF-143',\n",
       " '1-SEL-101',\n",
       " '1-LIM-104',\n",
       " '1-ECK-149',\n",
       " '1-CLN-222',\n",
       " '1-BON-108',\n",
       " '1-CNT-104',\n",
       " '6-LSD-109',\n",
       " '1-PHL-146',\n",
       " '3-EDL-114',\n",
       " '1-TRA-101',\n",
       " '1-YOG-111',\n",
       " '1-ECK-117',\n",
       " '1-LIM-128',\n",
       " '1-LPT-101',\n",
       " '6-CAF-102',\n",
       " '3-GRZ-101',\n",
       " '4-LAF-175',\n",
       " '1-PHL-131',\n",
       " '8-ADM-111',\n",
       " '1-PHL-145',\n",
       " '3-ECI-102',\n",
       " '8-RES-106',\n",
       " '1-DPF-102',\n",
       " '1-QTS-107',\n",
       " '1-PRO-125',\n",
       " '2-LOV-116',\n",
       " '1-PHL-144',\n",
       " '1-PUK-108',\n",
       " '1-PHL-120',\n",
       " '1-LIM-174',\n",
       " '1-VIT-112',\n",
       " '1-TAH-102',\n",
       " '3-LCV-101',\n",
       " '1-MPI-110',\n",
       " '4-LAF-178',\n",
       " '4-EBB-103',\n",
       " '1-EMN-127',\n",
       " '1-BID-123',\n",
       " '2-TID-104',\n",
       " '1-ATR-109',\n",
       " '1-KAO-111',\n",
       " '4-GRA-111',\n",
       " '1-GRI-114',\n",
       " '1-PRO-101',\n",
       " '1-BID-113',\n",
       " '1-PHL-178',\n",
       " '8-VLF-105',\n",
       " '4-BOF-104',\n",
       " '1-ABB-101',\n",
       " '1-LSV-110',\n",
       " '2-TID-105',\n",
       " '1-PRO-113',\n",
       " '3-SDP-104',\n",
       " '1-MPI-120',\n",
       " '1-EMN-133',\n",
       " '1-FAV-107',\n",
       " '1-ECK-108',\n",
       " '1-NTF-107',\n",
       " '1-BPT-113']"
      ]
     },
     "execution_count": 34,
     "metadata": {},
     "output_type": "execute_result"
    }
   ],
   "source": [
    "short_sku_list\n"
   ]
  },
  {
   "cell_type": "code",
   "execution_count": null,
   "metadata": {},
   "outputs": [],
   "source": [
    "CUSTOMER_ID = 'h6IvomPZxOTKuKGuvS8b3nZrzVk2'"
   ]
  },
  {
   "cell_type": "code",
   "execution_count": 38,
   "metadata": {},
   "outputs": [],
   "source": [
    "def top_items(customer_id,model,top_size=3):\n",
    "    non_ordered_skus = set(short_sku_list) - set(data_df[data_df.customer_id==customer_id]['sku'])\n",
    "    markdict = {sku:model.predict(customer_id, sku)[3] for sku in non_ordered_skus}\n",
    "    marklist = sorted(markdict.items(), key=lambda x:x[1],reverse = True)\n",
    "    return marklist[0:top_size]"
   ]
  },
  {
   "cell_type": "code",
   "execution_count": 40,
   "metadata": {},
   "outputs": [
    {
     "data": {
      "text/plain": [
       "[('2-TID-103', 0.3690890019998515),\n",
       " ('2-TID-105', 0.3679092985180255),\n",
       " ('1-NTV-157', 0.3623736911464686)]"
      ]
     },
     "execution_count": 40,
     "metadata": {},
     "output_type": "execute_result"
    }
   ],
   "source": [
    "top_items('h6IvomPZxOTKuKGuvS8b3nZrzVk2',model)"
   ]
  },
  {
   "cell_type": "code",
   "execution_count": null,
   "metadata": {},
   "outputs": [],
   "source": []
  }
 ],
 "metadata": {
  "kernelspec": {
   "display_name": "Python 3 (ipykernel)",
   "language": "python",
   "name": "python3"
  },
  "language_info": {
   "codemirror_mode": {
    "name": "ipython",
    "version": 3
   },
   "file_extension": ".py",
   "mimetype": "text/x-python",
   "name": "python",
   "nbconvert_exporter": "python",
   "pygments_lexer": "ipython3",
   "version": "3.8.12"
  },
  "toc": {
   "base_numbering": 1,
   "nav_menu": {},
   "number_sections": true,
   "sideBar": true,
   "skip_h1_title": false,
   "title_cell": "Table of Contents",
   "title_sidebar": "Contents",
   "toc_cell": false,
   "toc_position": {},
   "toc_section_display": true,
   "toc_window_display": false
  },
  "vscode": {
   "interpreter": {
    "hash": "def825b10654cb2ca0333e7c5d8a918d3bcbdd390542ddb9fd77e1336504db12"
   }
  }
 },
 "nbformat": 4,
 "nbformat_minor": 2
}
