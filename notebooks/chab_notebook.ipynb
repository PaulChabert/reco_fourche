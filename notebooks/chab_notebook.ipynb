{
 "cells": [
  {
   "cell_type": "code",
   "execution_count": 2,
   "metadata": {},
   "outputs": [],
   "source": [
    "import pandas as pd\n",
    "import matplotlib.pyplot as plt\n",
    "import seaborn as sns"
   ]
  },
  {
   "cell_type": "markdown",
   "metadata": {},
   "source": [
    "### import data\n"
   ]
  },
  {
   "cell_type": "code",
   "execution_count": null,
   "metadata": {},
   "outputs": [],
   "source": [
    "orders = pd.read_json(\"../raw_data/order_scoring.json\",lines=True)"
   ]
  },
  {
   "cell_type": "code",
   "execution_count": null,
   "metadata": {},
   "outputs": [],
   "source": [
    "orders"
   ]
  },
  {
   "cell_type": "markdown",
   "metadata": {},
   "source": [
    "### determining how many sku to take into consideration"
   ]
  },
  {
   "cell_type": "code",
   "execution_count": 2,
   "metadata": {},
   "outputs": [
    {
     "ename": "NameError",
     "evalue": "name 'orders' is not defined",
     "output_type": "error",
     "traceback": [
      "\u001b[0;31m---------------------------------------------------------------------------\u001b[0m",
      "\u001b[0;31mNameError\u001b[0m                                 Traceback (most recent call last)",
      "Cell \u001b[0;32mIn [2], line 1\u001b[0m\n\u001b[0;32m----> 1\u001b[0m \u001b[38;5;28mprint\u001b[39m(\u001b[38;5;28mlen\u001b[39m(\u001b[43morders\u001b[49m[\u001b[38;5;124m'\u001b[39m\u001b[38;5;124msku\u001b[39m\u001b[38;5;124m'\u001b[39m]\u001b[38;5;241m.\u001b[39munique()),\u001b[38;5;124m\"\u001b[39m\u001b[38;5;124m unique sku\u001b[39m\u001b[38;5;124m\"\u001b[39m)\n",
      "\u001b[0;31mNameError\u001b[0m: name 'orders' is not defined"
     ]
    }
   ],
   "source": [
    "print(len(orders['sku'].unique()),\" unique sku\")"
   ]
  },
  {
   "cell_type": "code",
   "execution_count": null,
   "metadata": {},
   "outputs": [],
   "source": [
    "print(\"as we see bellow, we can take only the 1000 more orderd skus\")\n",
    "counted_sku_df = orders.groupby('sku').count()['LO'].copy()\n",
    "counted_sku_df.sort_values(ascending=False,inplace=True)\n",
    "sns.histplot(counted_sku_df)\n",
    "plt.xlim(0,6000)\n"
   ]
  },
  {
   "cell_type": "code",
   "execution_count": null,
   "metadata": {},
   "outputs": [],
   "source": [
    "sku_lenght = 500"
   ]
  },
  {
   "cell_type": "markdown",
   "metadata": {},
   "source": [
    "### drop unfamous skus\n",
    "\n",
    "\n"
   ]
  },
  {
   "cell_type": "code",
   "execution_count": null,
   "metadata": {},
   "outputs": [],
   "source": [
    "short_sku_list = list(counted_sku_df.head(sku_lenght).index)"
   ]
  },
  {
   "cell_type": "code",
   "execution_count": null,
   "metadata": {},
   "outputs": [],
   "source": [
    "orders_short = orders[orders['sku'].isin(short_sku_list)]"
   ]
  },
  {
   "cell_type": "markdown",
   "metadata": {},
   "source": [
    "# Scoring"
   ]
  },
  {
   "cell_type": "markdown",
   "metadata": {},
   "source": [
    "## Score each order"
   ]
  },
  {
   "cell_type": "code",
   "execution_count": null,
   "metadata": {},
   "outputs": [],
   "source": [
    "coef = {\n",
    "    1:0.4,\n",
    "    2:0.3,\n",
    "    3:0.2,\n",
    "    4:0.1\n",
    "    }"
   ]
  },
  {
   "cell_type": "code",
   "execution_count": null,
   "metadata": {},
   "outputs": [],
   "source": [
    "orders_short['score'] = orders_short['LO'].map(coef)"
   ]
  },
  {
   "cell_type": "code",
   "execution_count": null,
   "metadata": {},
   "outputs": [],
   "source": [
    "table_scoring = orders_short.groupby(by=['customer_id','sku']).sum()[['score']]\n",
    "\n",
    "table_scoring\n"
   ]
  },
  {
   "cell_type": "markdown",
   "metadata": {},
   "source": [
    "## Score penality"
   ]
  },
  {
   "cell_type": "code",
   "execution_count": null,
   "metadata": {},
   "outputs": [],
   "source": [
    "penality = 0.5"
   ]
  },
  {
   "cell_type": "code",
   "execution_count": null,
   "metadata": {
    "scrolled": true
   },
   "outputs": [],
   "source": [
    "table_penality = pd.pivot_table(orders_short, \n",
    "                       values=['score'], \n",
    "                       index=['customer_id','sku'],\n",
    "                       columns=['LO'],\n",
    "                       aggfunc='count',\n",
    "                       fill_value=0)\n",
    "\n",
    "table_penality['penality'] = table[[('score',4),('score',3)]].max(axis=1)*(1-table[('score',2)])*(1-table[('score',1)])*penality\n",
    "table_penality"
   ]
  },
  {
   "cell_type": "code",
   "execution_count": null,
   "metadata": {
    "scrolled": true
   },
   "outputs": [],
   "source": []
  },
  {
   "cell_type": "markdown",
   "metadata": {},
   "source": [
    "## add those two scores"
   ]
  },
  {
   "cell_type": "code",
   "execution_count": null,
   "metadata": {},
   "outputs": [],
   "source": [
    "final_table = pd.DataFrame(table_scoring['score'] - table_penality['penality'],columns=[\"score\"])"
   ]
  },
  {
   "cell_type": "code",
   "execution_count": null,
   "metadata": {},
   "outputs": [],
   "source": [
    "data_df = final_table.reset_index()"
   ]
  },
  {
   "cell_type": "code",
   "execution_count": null,
   "metadata": {},
   "outputs": [],
   "source": [
    "data_df"
   ]
  },
  {
   "cell_type": "markdown",
   "metadata": {},
   "source": [
    "### trasnpose to double entrey matrix"
   ]
  },
  {
   "cell_type": "code",
   "execution_count": null,
   "metadata": {},
   "outputs": [],
   "source": []
  },
  {
   "cell_type": "code",
   "execution_count": null,
   "metadata": {},
   "outputs": [],
   "source": []
  },
  {
   "cell_type": "code",
   "execution_count": null,
   "metadata": {},
   "outputs": [],
   "source": [
    "final_table"
   ]
  },
  {
   "cell_type": "code",
   "execution_count": null,
   "metadata": {},
   "outputs": [],
   "source": [
    "matrix = pd.pivot_table(final_table, values=['score'], index=['customer_id'],\n",
    "                    columns=['sku'],aggfunc='sum')\n"
   ]
  },
  {
   "cell_type": "code",
   "execution_count": null,
   "metadata": {},
   "outputs": [],
   "source": []
  },
  {
   "cell_type": "markdown",
   "metadata": {},
   "source": [
    "# SVD"
   ]
  },
  {
   "cell_type": "raw",
   "metadata": {},
   "source": [
    "all_customers = orders['customer_id'].unique()\n",
    "all_customers"
   ]
  },
  {
   "cell_type": "code",
   "execution_count": null,
   "id": "8a44b6bb",
   "metadata": {},
   "outputs": [],
   "source": [
    "all_skus = orders['sku'].unique()\n",
    "all_skus\n",
    "len(all_skus)"
   ]
  },
  {
   "cell_type": "markdown",
   "id": "4a76a58b",
   "metadata": {},
   "source": [
    "### Test scikit-surprise"
   ]
  },
  {
   "cell_type": "code",
   "execution_count": null,
   "id": "d1486a58",
   "metadata": {
    "scrolled": true
   },
   "outputs": [],
   "source": []
  },
  {
   "cell_type": "code",
   "execution_count": null,
   "id": "b1f962b1",
   "metadata": {},
   "outputs": [],
   "source": [
    "# Imports\n",
    "from surprise import Reader, Dataset, SVD, NMF\n",
    "from surprise.model_selection import cross_validate, train_test_split\n",
    "from surprise.accuracy import rmse, mae"
   ]
  },
  {
   "cell_type": "markdown",
   "id": "f633c386",
   "metadata": {},
   "source": [
    "Exemple https://towardsdatascience.com/various-implementations-of-collaborative-filtering-100385c6dfe0\n",
    "\n",
    "Doc scikit-surprise https://surprise.readthedocs.io/en/stable/getting_started.html#load-from-df-example"
   ]
  },
  {
   "cell_type": "code",
   "execution_count": null,
   "id": "884654f9",
   "metadata": {},
   "outputs": [],
   "source": [
    "# On crée un Reader de scikit-surprise\n",
    "reader = Reader(rating_scale=(1, 5))"
   ]
  },
  {
   "cell_type": "code",
   "execution_count": null,
   "id": "51d42e57",
   "metadata": {},
   "outputs": [],
   "source": []
  },
  {
   "cell_type": "code",
   "execution_count": null,
   "id": "0dcc54c6",
   "metadata": {},
   "outputs": [],
   "source": []
  },
  {
   "cell_type": "markdown",
   "id": "5608c75d",
   "metadata": {},
   "source": [
    "## SVD"
   ]
  },
  {
   "cell_type": "code",
   "execution_count": null,
   "id": "00eabf3a",
   "metadata": {},
   "outputs": [],
   "source": [
    "# On crée un modèle SVD\n",
    "model = SVD()"
   ]
  },
  {
   "cell_type": "code",
   "execution_count": null,
   "metadata": {},
   "outputs": [],
   "source": [
    "data_df"
   ]
  },
  {
   "cell_type": "code",
   "execution_count": null,
   "metadata": {},
   "outputs": [],
   "source": [
    "data = Dataset.load_from_df(data_df, reader)"
   ]
  },
  {
   "cell_type": "code",
   "execution_count": null,
   "id": "540588a5",
   "metadata": {},
   "outputs": [],
   "source": [
    "# J'essaie de cross-validate, pour voir le score du modèle sans aucune optimisation\n",
    "cross_validate(model, data, measures=['RMSE'], cv=5, verbose=True)"
   ]
  },
  {
   "cell_type": "code",
   "execution_count": null,
   "id": "c043854a",
   "metadata": {},
   "outputs": [],
   "source": [
    "# On va faire un training à la main.\n",
    "# On sépare train et test set\n",
    "trainset, testset = train_test_split(data, test_size=0.25)"
   ]
  },
  {
   "cell_type": "code",
   "execution_count": null,
   "id": "5ca99935",
   "metadata": {},
   "outputs": [],
   "source": [
    "# On fit le model\n",
    "model.fit(trainset)"
   ]
  },
  {
   "cell_type": "code",
   "execution_count": null,
   "id": "76deecc8",
   "metadata": {},
   "outputs": [],
   "source": [
    "# On fait des prédictions\n",
    "predictions = model.test(testset)"
   ]
  },
  {
   "cell_type": "code",
   "execution_count": null,
   "id": "a13214be",
   "metadata": {},
   "outputs": [],
   "source": [
    "# Résultat\n",
    "rmse(predictions)"
   ]
  },
  {
   "cell_type": "code",
   "execution_count": null,
   "id": "41df857c",
   "metadata": {},
   "outputs": [],
   "source": [
    "mae(predictions)"
   ]
  },
  {
   "cell_type": "code",
   "execution_count": null,
   "id": "82ae11fa",
   "metadata": {},
   "outputs": [],
   "source": [
    "# On peut faire des prédictions de score, pour un customer et un produit au hasard\n",
    "# .est -> renvoie le score attendu\n",
    "model.predict('h6IvomPZxOTKuKGuvS8b3nZrzVk2', '4-LAV-100')"
   ]
  },
  {
   "cell_type": "code",
   "execution_count": null,
   "id": "09fdf551",
   "metadata": {},
   "outputs": [],
   "source": [
    "model.predict('00HCaCqtG9aMGVCDyBUbvzIzY073', '1-FAV-133')"
   ]
  },
  {
   "cell_type": "code",
   "execution_count": null,
   "id": "c71ab2ec",
   "metadata": {},
   "outputs": [],
   "source": [
    "# Est-ce qu'on peut prédire l'item qui aura la meilleur note ?\n",
    "# Il faut appeler model.predict() sur tous les items, et choisir les meilleurs notes\n",
    "customer_id = 'h6IvomPZxOTKuKGuvS8b3nZrzVk2'  # On choisit un customer\n",
    "scores_for_customer = all_skus.copy()\n",
    "scores_for_customer"
   ]
  },
  {
   "cell_type": "code",
   "execution_count": null,
   "id": "30f896ff",
   "metadata": {},
   "outputs": [],
   "source": [
    "df_customer = pd.DataFrame(scores_for_customer)"
   ]
  },
  {
   "cell_type": "code",
   "execution_count": null,
   "metadata": {},
   "outputs": [],
   "source": []
  }
 ],
 "metadata": {
  "kernelspec": {
   "display_name": "Python 3 (ipykernel)",
   "language": "python",
   "name": "python3"
  },
  "language_info": {
   "codemirror_mode": {
    "name": "ipython",
    "version": 3
   },
   "file_extension": ".py",
   "mimetype": "text/x-python",
   "name": "python",
   "nbconvert_exporter": "python",
   "pygments_lexer": "ipython3",
   "version": "3.8.12"
  },
  "toc": {
   "base_numbering": 1,
   "nav_menu": {},
   "number_sections": true,
   "sideBar": true,
   "skip_h1_title": false,
   "title_cell": "Table of Contents",
   "title_sidebar": "Contents",
   "toc_cell": false,
   "toc_position": {},
   "toc_section_display": true,
   "toc_window_display": false
  },
  "vscode": {
   "interpreter": {
    "hash": "def825b10654cb2ca0333e7c5d8a918d3bcbdd390542ddb9fd77e1336504db12"
   }
  }
 },
 "nbformat": 4,
 "nbformat_minor": 2
}
