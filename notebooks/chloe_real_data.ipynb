{
 "cells": [
  {
   "cell_type": "markdown",
   "id": "988e88d6",
   "metadata": {},
   "source": [
    "## Imports"
   ]
  },
  {
   "cell_type": "code",
   "execution_count": 8,
   "id": "20595d59",
   "metadata": {},
   "outputs": [],
   "source": [
    "import pandas as pd\n",
    "import matplotlib.pyplot as plt\n",
    "import seaborn as sns\n",
    "import numpy as np"
   ]
  },
  {
   "cell_type": "code",
   "execution_count": 9,
   "id": "261864f3",
   "metadata": {},
   "outputs": [],
   "source": [
    "from sklearn.feature_selection import r_regression as pearson_correlation\n",
    "from sklearn.decomposition import NMF"
   ]
  },
  {
   "cell_type": "markdown",
   "id": "02efdf72",
   "metadata": {},
   "source": [
    "## Non negative matrice factorization recommandation model"
   ]
  },
  {
   "cell_type": "code",
   "execution_count": 10,
   "id": "e74cc752",
   "metadata": {},
   "outputs": [],
   "source": [
    "# On reprend la fonction de recommandation NNF\n",
    "def person_based_recommandation_nnf(data, utilisateur, n_categories=5, n_recommandations=5):\n",
    "    model = NMF(n_components=n_categories, init='random', max_iter=2000, random_state=0)\n",
    "    W = model.fit_transform(data)\n",
    "    H = model.components_\n",
    "    approximated_matrix = np.matmul(W, H)\n",
    "    approximated_matrix_df = pd.DataFrame(approximated_matrix, index=data.index, columns=data.columns)\n",
    "\n",
    "    # Pour recommander un item, on prend le mieux noté parmi ceux qu'il n'avait pas notés.\n",
    "    data_utilisateur = data.filter(items=[utilisateur], axis=0).transpose()\n",
    "    data_utilisateur['has_rated'] = (data_utilisateur[utilisateur] != 0)\n",
    "    \n",
    "    predicted_ratings_utilisateur = approximated_matrix_df.filter(items=[utilisateur], axis=0).transpose()\n",
    "\n",
    "    # Un peu pareil que pour Pearson, on prend les meilleurs de ceux qu'on a pas encore notés\n",
    "    items_sorted = predicted_ratings_utilisateur[data_utilisateur['has_rated'] == False].sort_values(utilisateur, ascending=False)\n",
    "    return items_sorted[:n_recommandations].index        \n"
   ]
  },
  {
   "cell_type": "code",
   "execution_count": 11,
   "id": "99d3501d",
   "metadata": {},
   "outputs": [],
   "source": [
    "# On sépare entre train et apply, pour gagner du temps\n",
    "def person_based_recommandation_nnf_train(data, n_categories=5):\n",
    "    model = NMF(n_components=n_categories, init='random', max_iter=2000, random_state=0)\n",
    "    W = model.fit_transform(data)\n",
    "    H = model.components_\n",
    "    approximated_matrix = np.matmul(W, H)\n",
    "    approximated_matrix_df = pd.DataFrame(approximated_matrix, index=data.index, columns=data.columns)\n",
    "    return approximated_matrix_df\n",
    "\n",
    "def person_based_recommandation_nnf_apply(data, approximated_matrix_df, utilisateur, n_recommandations=5):\n",
    "    # Pour recommander un item, on prend le mieux noté parmi ceux qu'il n'avait pas notés.\n",
    "    data_utilisateur = data.filter(items=[utilisateur], axis=0).transpose()\n",
    "    data_utilisateur['has_rated'] = (data_utilisateur[utilisateur] != 0)\n",
    "    \n",
    "    predicted_ratings_utilisateur = approximated_matrix_df.filter(items=[utilisateur], axis=0).transpose()\n",
    "\n",
    "    # Un peu pareil que pour Pearson, on prend les meilleurs de ceux qu'on a pas encore notés\n",
    "    items_sorted = predicted_ratings_utilisateur[data_utilisateur['has_rated'] == False].sort_values(utilisateur, ascending=False)\n",
    "    return items_sorted[:n_recommandations].index        \n"
   ]
  },
  {
   "cell_type": "code",
   "execution_count": 12,
   "id": "f825519b",
   "metadata": {},
   "outputs": [],
   "source": [
    "# Calcul de score (MAE) pour une matrice NNF\n",
    "def nnf_mae(data, approximated_matrix_df):\n",
    "    return (data - approximated_matrix_df).abs().mean().mean()"
   ]
  },
  {
   "cell_type": "code",
   "execution_count": 13,
   "id": "bf86af06",
   "metadata": {},
   "outputs": [],
   "source": [
    "# On reprend la fonction de recommandation Pearson\n",
    "def person_based_recommandation(data, utilisateur, n_proches=5, n_recommandations=5):\n",
    "    # On transpose la matrice, parceque la fonction pearson fait une correlation entre les colonnes\n",
    "    data_transposed = data.transpose()\n",
    "\n",
    "    # On fait la corrélation de cust_5 avec toutes les autres colonnes\n",
    "    correlations = pearson_correlation(data_transposed, data_transposed[utilisateur])\n",
    "\n",
    "    # On reformate pour avoir les données dans un dataframe propre\n",
    "    correlations_col = pd.DataFrame(index=data.index)\n",
    "    correlations_col['correlations'] = correlations\n",
    "\n",
    "    # On trie par ordre décroissant\n",
    "    sorted_correlations = correlations_col.sort_values('correlations', ascending=False)\n",
    "    \n",
    "    utilisateurs_proches = sorted_correlations[1:n_proches+1].index\n",
    "    \n",
    "    # On ne garde que les ratings de ces utilisateurs\n",
    "    data_utilisateurs_proches = data.filter(items=utilisateurs_proches, axis=0).transpose()\n",
    "    \n",
    "    # Les ratings de notre utilisateur\n",
    "    data_utilisateur = data.filter(items=[utilisateur], axis=0).transpose()\n",
    "\n",
    "    # Nombre d'utilisateurs proches qui ont noté\n",
    "    n_ratings = (data_utilisateurs_proches != 0).sum(axis=1)\n",
    "\n",
    "    # Note moyenne\n",
    "    mean_ratings = (data_utilisateurs_proches).mean(axis=1)\n",
    "\n",
    "    utilisateur_has_rated = (data_utilisateur[utilisateur] != 0)\n",
    "\n",
    "    data_utilisateur['n_ratings'] = n_ratings\n",
    "    data_utilisateur['mean_ratings'] = mean_ratings\n",
    "    data_utilisateur['has_rated'] = utilisateur_has_rated\n",
    "    \n",
    "    items_sorted = data_utilisateur[data_utilisateur['has_rated'] == False].sort_values(['n_ratings', 'mean_ratings'], ascending=False)\n",
    "\n",
    "    return items_sorted[:n_recommandations].index"
   ]
  },
  {
   "cell_type": "markdown",
   "id": "6c68f43e",
   "metadata": {},
   "source": [
    "## Chargement des données"
   ]
  },
  {
   "cell_type": "code",
   "execution_count": 14,
   "id": "c8f94d48",
   "metadata": {},
   "outputs": [],
   "source": [
    "orders = pd.read_json(\"../raw_data/order_scoring.json\",lines=True)"
   ]
  },
  {
   "cell_type": "code",
   "execution_count": 15,
   "id": "761d2cac",
   "metadata": {},
   "outputs": [],
   "source": [
    "counted_sku_df = orders.groupby('sku').count()['LO'].copy()\n",
    "counted_sku_df.sort_values(ascending=False,inplace=True)\n",
    "sku_lenght = 500\n",
    "short_sku_list = list(counted_sku_df.head(sku_lenght).index)\n",
    "orders_short = orders[orders['sku'].isin(short_sku_list)]"
   ]
  },
  {
   "cell_type": "code",
   "execution_count": 16,
   "id": "2efdbf4e",
   "metadata": {},
   "outputs": [
    {
     "name": "stderr",
     "output_type": "stream",
     "text": [
      "/tmp/ipykernel_2265981/1351466278.py:7: SettingWithCopyWarning: \n",
      "A value is trying to be set on a copy of a slice from a DataFrame.\n",
      "Try using .loc[row_indexer,col_indexer] = value instead\n",
      "\n",
      "See the caveats in the documentation: https://pandas.pydata.org/pandas-docs/stable/user_guide/indexing.html#returning-a-view-versus-a-copy\n",
      "  orders_short['score'] = orders_short['LO'].map(coef)\n"
     ]
    }
   ],
   "source": [
    "coef = {\n",
    "    1:0.4,\n",
    "    2:0.3,\n",
    "    3:0.2,\n",
    "    4:0.1\n",
    "    }\n",
    "orders_short['score'] = orders_short['LO'].map(coef)\n",
    "table_scoring = orders_short.groupby(by=['customer_id','sku']).sum()[['score']]"
   ]
  },
  {
   "cell_type": "code",
   "execution_count": 17,
   "id": "c1d40069",
   "metadata": {},
   "outputs": [],
   "source": [
    "penality = 0.5\n",
    "table_penality = pd.pivot_table(orders_short, \n",
    "                       values=['score'], \n",
    "                       index=['customer_id','sku'],\n",
    "                       columns=['LO'],\n",
    "                       aggfunc='count',\n",
    "                       fill_value=0)\n",
    "\n",
    "table_penality['penality'] = table_penality[[('score',4),('score',3)]].max(axis=1)*(1-table_penality[('score',2)])*(1-table_penality[('score',1)])*penality\n",
    "final_table = pd.DataFrame(table_scoring['score'] - table_penality['penality'],columns=[\"score\"])"
   ]
  },
  {
   "cell_type": "code",
   "execution_count": 18,
   "id": "0f307b46",
   "metadata": {},
   "outputs": [],
   "source": [
    "matrix = pd.pivot_table(final_table, values=['score'], index=['customer_id'],\n",
    "                    columns=['sku'],aggfunc='sum')\n",
    "matrix = matrix.fillna(0)"
   ]
  },
  {
   "cell_type": "code",
   "execution_count": 19,
   "id": "4b3d43e0",
   "metadata": {},
   "outputs": [],
   "source": [
    "matrix.columns = matrix.columns.droplevel(0)\n",
    "data = matrix"
   ]
  },
  {
   "cell_type": "code",
   "execution_count": 20,
   "id": "8c060889",
   "metadata": {},
   "outputs": [
    {
     "data": {
      "text/html": [
       "<div>\n",
       "<style scoped>\n",
       "    .dataframe tbody tr th:only-of-type {\n",
       "        vertical-align: middle;\n",
       "    }\n",
       "\n",
       "    .dataframe tbody tr th {\n",
       "        vertical-align: top;\n",
       "    }\n",
       "\n",
       "    .dataframe thead th {\n",
       "        text-align: right;\n",
       "    }\n",
       "</style>\n",
       "<table border=\"1\" class=\"dataframe\">\n",
       "  <thead>\n",
       "    <tr style=\"text-align: right;\">\n",
       "      <th>sku</th>\n",
       "      <th>1-ABB-101</th>\n",
       "      <th>1-ABO-103</th>\n",
       "      <th>1-ABO-105</th>\n",
       "      <th>1-ACN-106</th>\n",
       "      <th>1-ACN-107</th>\n",
       "      <th>1-ACN-108</th>\n",
       "      <th>1-ACN-113</th>\n",
       "      <th>1-ACN-116</th>\n",
       "      <th>1-ACP-101</th>\n",
       "      <th>1-ACP-102</th>\n",
       "      <th>...</th>\n",
       "      <th>8-GRI-104</th>\n",
       "      <th>8-ILB-103</th>\n",
       "      <th>8-ILB-106</th>\n",
       "      <th>8-LCM-119</th>\n",
       "      <th>8-RES-102</th>\n",
       "      <th>8-RES-106</th>\n",
       "      <th>8-VLF-104</th>\n",
       "      <th>8-VLF-105</th>\n",
       "      <th>8-VLF-107</th>\n",
       "      <th>8-VLF-108</th>\n",
       "    </tr>\n",
       "    <tr>\n",
       "      <th>customer_id</th>\n",
       "      <th></th>\n",
       "      <th></th>\n",
       "      <th></th>\n",
       "      <th></th>\n",
       "      <th></th>\n",
       "      <th></th>\n",
       "      <th></th>\n",
       "      <th></th>\n",
       "      <th></th>\n",
       "      <th></th>\n",
       "      <th></th>\n",
       "      <th></th>\n",
       "      <th></th>\n",
       "      <th></th>\n",
       "      <th></th>\n",
       "      <th></th>\n",
       "      <th></th>\n",
       "      <th></th>\n",
       "      <th></th>\n",
       "      <th></th>\n",
       "      <th></th>\n",
       "    </tr>\n",
       "  </thead>\n",
       "  <tbody>\n",
       "    <tr>\n",
       "      <th>00HCaCqtG9aMGVCDyBUbvzIzY073</th>\n",
       "      <td>0.0</td>\n",
       "      <td>0.0</td>\n",
       "      <td>0.0</td>\n",
       "      <td>0.0</td>\n",
       "      <td>0.0</td>\n",
       "      <td>0.0</td>\n",
       "      <td>0.0</td>\n",
       "      <td>0.0</td>\n",
       "      <td>0.0</td>\n",
       "      <td>0.0</td>\n",
       "      <td>...</td>\n",
       "      <td>0.0</td>\n",
       "      <td>0.0</td>\n",
       "      <td>0.0</td>\n",
       "      <td>0.0</td>\n",
       "      <td>0.0</td>\n",
       "      <td>0.0</td>\n",
       "      <td>0.0</td>\n",
       "      <td>0.0</td>\n",
       "      <td>0.0</td>\n",
       "      <td>0.0</td>\n",
       "    </tr>\n",
       "    <tr>\n",
       "      <th>00KfpQoUiRTi8RfGFcdjFM80s5s1</th>\n",
       "      <td>0.0</td>\n",
       "      <td>0.3</td>\n",
       "      <td>0.0</td>\n",
       "      <td>0.0</td>\n",
       "      <td>0.0</td>\n",
       "      <td>0.0</td>\n",
       "      <td>0.0</td>\n",
       "      <td>0.0</td>\n",
       "      <td>0.3</td>\n",
       "      <td>0.0</td>\n",
       "      <td>...</td>\n",
       "      <td>0.0</td>\n",
       "      <td>0.0</td>\n",
       "      <td>0.0</td>\n",
       "      <td>0.0</td>\n",
       "      <td>0.0</td>\n",
       "      <td>0.0</td>\n",
       "      <td>0.0</td>\n",
       "      <td>0.0</td>\n",
       "      <td>0.0</td>\n",
       "      <td>0.0</td>\n",
       "    </tr>\n",
       "    <tr>\n",
       "      <th>00RZel3ipuTJMrADRnZ3Lr1C1XX2</th>\n",
       "      <td>0.0</td>\n",
       "      <td>0.0</td>\n",
       "      <td>0.0</td>\n",
       "      <td>0.0</td>\n",
       "      <td>0.0</td>\n",
       "      <td>0.0</td>\n",
       "      <td>0.0</td>\n",
       "      <td>0.0</td>\n",
       "      <td>0.0</td>\n",
       "      <td>0.0</td>\n",
       "      <td>...</td>\n",
       "      <td>0.0</td>\n",
       "      <td>0.0</td>\n",
       "      <td>0.0</td>\n",
       "      <td>0.0</td>\n",
       "      <td>0.0</td>\n",
       "      <td>0.0</td>\n",
       "      <td>0.0</td>\n",
       "      <td>0.0</td>\n",
       "      <td>0.0</td>\n",
       "      <td>0.0</td>\n",
       "    </tr>\n",
       "    <tr>\n",
       "      <th>00V8dG1xBHM84aVChJyEgIL21XK2</th>\n",
       "      <td>0.0</td>\n",
       "      <td>0.0</td>\n",
       "      <td>0.0</td>\n",
       "      <td>0.0</td>\n",
       "      <td>0.0</td>\n",
       "      <td>0.0</td>\n",
       "      <td>0.0</td>\n",
       "      <td>0.0</td>\n",
       "      <td>0.0</td>\n",
       "      <td>0.0</td>\n",
       "      <td>...</td>\n",
       "      <td>0.0</td>\n",
       "      <td>0.0</td>\n",
       "      <td>0.0</td>\n",
       "      <td>0.0</td>\n",
       "      <td>0.0</td>\n",
       "      <td>0.0</td>\n",
       "      <td>0.0</td>\n",
       "      <td>0.0</td>\n",
       "      <td>0.0</td>\n",
       "      <td>0.0</td>\n",
       "    </tr>\n",
       "    <tr>\n",
       "      <th>00zoJSpuLHUBtthekFUQ3sjnJy63</th>\n",
       "      <td>0.0</td>\n",
       "      <td>0.0</td>\n",
       "      <td>0.0</td>\n",
       "      <td>0.0</td>\n",
       "      <td>0.0</td>\n",
       "      <td>0.0</td>\n",
       "      <td>0.0</td>\n",
       "      <td>0.0</td>\n",
       "      <td>0.0</td>\n",
       "      <td>0.0</td>\n",
       "      <td>...</td>\n",
       "      <td>0.0</td>\n",
       "      <td>0.0</td>\n",
       "      <td>0.0</td>\n",
       "      <td>0.0</td>\n",
       "      <td>0.0</td>\n",
       "      <td>0.0</td>\n",
       "      <td>0.0</td>\n",
       "      <td>0.0</td>\n",
       "      <td>0.0</td>\n",
       "      <td>0.0</td>\n",
       "    </tr>\n",
       "    <tr>\n",
       "      <th>...</th>\n",
       "      <td>...</td>\n",
       "      <td>...</td>\n",
       "      <td>...</td>\n",
       "      <td>...</td>\n",
       "      <td>...</td>\n",
       "      <td>...</td>\n",
       "      <td>...</td>\n",
       "      <td>...</td>\n",
       "      <td>...</td>\n",
       "      <td>...</td>\n",
       "      <td>...</td>\n",
       "      <td>...</td>\n",
       "      <td>...</td>\n",
       "      <td>...</td>\n",
       "      <td>...</td>\n",
       "      <td>...</td>\n",
       "      <td>...</td>\n",
       "      <td>...</td>\n",
       "      <td>...</td>\n",
       "      <td>...</td>\n",
       "      <td>...</td>\n",
       "    </tr>\n",
       "    <tr>\n",
       "      <th>zzqXh3hccWTjkxco7Qdz1iEy7bu1</th>\n",
       "      <td>0.0</td>\n",
       "      <td>0.0</td>\n",
       "      <td>0.0</td>\n",
       "      <td>0.0</td>\n",
       "      <td>0.0</td>\n",
       "      <td>0.0</td>\n",
       "      <td>0.0</td>\n",
       "      <td>0.0</td>\n",
       "      <td>0.0</td>\n",
       "      <td>0.3</td>\n",
       "      <td>...</td>\n",
       "      <td>0.0</td>\n",
       "      <td>0.0</td>\n",
       "      <td>0.0</td>\n",
       "      <td>0.0</td>\n",
       "      <td>0.0</td>\n",
       "      <td>0.0</td>\n",
       "      <td>0.0</td>\n",
       "      <td>0.0</td>\n",
       "      <td>0.0</td>\n",
       "      <td>0.0</td>\n",
       "    </tr>\n",
       "    <tr>\n",
       "      <th>zzqaeuDHkFcnofZkDUHPJ7fbCS33</th>\n",
       "      <td>0.0</td>\n",
       "      <td>0.0</td>\n",
       "      <td>0.0</td>\n",
       "      <td>0.0</td>\n",
       "      <td>0.0</td>\n",
       "      <td>0.0</td>\n",
       "      <td>0.0</td>\n",
       "      <td>0.0</td>\n",
       "      <td>0.0</td>\n",
       "      <td>0.0</td>\n",
       "      <td>...</td>\n",
       "      <td>0.0</td>\n",
       "      <td>0.0</td>\n",
       "      <td>0.0</td>\n",
       "      <td>0.0</td>\n",
       "      <td>0.0</td>\n",
       "      <td>0.0</td>\n",
       "      <td>0.0</td>\n",
       "      <td>0.0</td>\n",
       "      <td>0.0</td>\n",
       "      <td>0.0</td>\n",
       "    </tr>\n",
       "    <tr>\n",
       "      <th>zzrZzibp5CbzXtjld4reTvX7bdR2</th>\n",
       "      <td>0.0</td>\n",
       "      <td>0.7</td>\n",
       "      <td>0.0</td>\n",
       "      <td>0.0</td>\n",
       "      <td>0.0</td>\n",
       "      <td>0.0</td>\n",
       "      <td>0.0</td>\n",
       "      <td>0.0</td>\n",
       "      <td>0.9</td>\n",
       "      <td>0.0</td>\n",
       "      <td>...</td>\n",
       "      <td>0.0</td>\n",
       "      <td>0.0</td>\n",
       "      <td>0.0</td>\n",
       "      <td>0.0</td>\n",
       "      <td>0.0</td>\n",
       "      <td>0.0</td>\n",
       "      <td>0.0</td>\n",
       "      <td>0.0</td>\n",
       "      <td>0.0</td>\n",
       "      <td>0.0</td>\n",
       "    </tr>\n",
       "    <tr>\n",
       "      <th>zzxqL7l0M2fuSto96UNjWi3pg9b2</th>\n",
       "      <td>0.0</td>\n",
       "      <td>0.0</td>\n",
       "      <td>0.0</td>\n",
       "      <td>0.0</td>\n",
       "      <td>0.0</td>\n",
       "      <td>0.0</td>\n",
       "      <td>0.0</td>\n",
       "      <td>-0.4</td>\n",
       "      <td>0.0</td>\n",
       "      <td>0.0</td>\n",
       "      <td>...</td>\n",
       "      <td>0.0</td>\n",
       "      <td>0.0</td>\n",
       "      <td>0.0</td>\n",
       "      <td>0.0</td>\n",
       "      <td>0.0</td>\n",
       "      <td>0.0</td>\n",
       "      <td>0.0</td>\n",
       "      <td>0.0</td>\n",
       "      <td>0.0</td>\n",
       "      <td>0.0</td>\n",
       "    </tr>\n",
       "    <tr>\n",
       "      <th>zzy8Wl17TrPlHWs0QQYZyLzdUVC3</th>\n",
       "      <td>0.0</td>\n",
       "      <td>0.0</td>\n",
       "      <td>0.0</td>\n",
       "      <td>0.0</td>\n",
       "      <td>0.0</td>\n",
       "      <td>0.0</td>\n",
       "      <td>0.0</td>\n",
       "      <td>0.0</td>\n",
       "      <td>0.0</td>\n",
       "      <td>0.0</td>\n",
       "      <td>...</td>\n",
       "      <td>0.0</td>\n",
       "      <td>0.0</td>\n",
       "      <td>0.0</td>\n",
       "      <td>0.0</td>\n",
       "      <td>0.0</td>\n",
       "      <td>0.0</td>\n",
       "      <td>0.0</td>\n",
       "      <td>0.0</td>\n",
       "      <td>0.0</td>\n",
       "      <td>0.0</td>\n",
       "    </tr>\n",
       "  </tbody>\n",
       "</table>\n",
       "<p>61886 rows × 500 columns</p>\n",
       "</div>"
      ],
      "text/plain": [
       "sku                           1-ABB-101  1-ABO-103  1-ABO-105  1-ACN-106  \\\n",
       "customer_id                                                                \n",
       "00HCaCqtG9aMGVCDyBUbvzIzY073        0.0        0.0        0.0        0.0   \n",
       "00KfpQoUiRTi8RfGFcdjFM80s5s1        0.0        0.3        0.0        0.0   \n",
       "00RZel3ipuTJMrADRnZ3Lr1C1XX2        0.0        0.0        0.0        0.0   \n",
       "00V8dG1xBHM84aVChJyEgIL21XK2        0.0        0.0        0.0        0.0   \n",
       "00zoJSpuLHUBtthekFUQ3sjnJy63        0.0        0.0        0.0        0.0   \n",
       "...                                 ...        ...        ...        ...   \n",
       "zzqXh3hccWTjkxco7Qdz1iEy7bu1        0.0        0.0        0.0        0.0   \n",
       "zzqaeuDHkFcnofZkDUHPJ7fbCS33        0.0        0.0        0.0        0.0   \n",
       "zzrZzibp5CbzXtjld4reTvX7bdR2        0.0        0.7        0.0        0.0   \n",
       "zzxqL7l0M2fuSto96UNjWi3pg9b2        0.0        0.0        0.0        0.0   \n",
       "zzy8Wl17TrPlHWs0QQYZyLzdUVC3        0.0        0.0        0.0        0.0   \n",
       "\n",
       "sku                           1-ACN-107  1-ACN-108  1-ACN-113  1-ACN-116  \\\n",
       "customer_id                                                                \n",
       "00HCaCqtG9aMGVCDyBUbvzIzY073        0.0        0.0        0.0        0.0   \n",
       "00KfpQoUiRTi8RfGFcdjFM80s5s1        0.0        0.0        0.0        0.0   \n",
       "00RZel3ipuTJMrADRnZ3Lr1C1XX2        0.0        0.0        0.0        0.0   \n",
       "00V8dG1xBHM84aVChJyEgIL21XK2        0.0        0.0        0.0        0.0   \n",
       "00zoJSpuLHUBtthekFUQ3sjnJy63        0.0        0.0        0.0        0.0   \n",
       "...                                 ...        ...        ...        ...   \n",
       "zzqXh3hccWTjkxco7Qdz1iEy7bu1        0.0        0.0        0.0        0.0   \n",
       "zzqaeuDHkFcnofZkDUHPJ7fbCS33        0.0        0.0        0.0        0.0   \n",
       "zzrZzibp5CbzXtjld4reTvX7bdR2        0.0        0.0        0.0        0.0   \n",
       "zzxqL7l0M2fuSto96UNjWi3pg9b2        0.0        0.0        0.0       -0.4   \n",
       "zzy8Wl17TrPlHWs0QQYZyLzdUVC3        0.0        0.0        0.0        0.0   \n",
       "\n",
       "sku                           1-ACP-101  1-ACP-102  ...  8-GRI-104  8-ILB-103  \\\n",
       "customer_id                                         ...                         \n",
       "00HCaCqtG9aMGVCDyBUbvzIzY073        0.0        0.0  ...        0.0        0.0   \n",
       "00KfpQoUiRTi8RfGFcdjFM80s5s1        0.3        0.0  ...        0.0        0.0   \n",
       "00RZel3ipuTJMrADRnZ3Lr1C1XX2        0.0        0.0  ...        0.0        0.0   \n",
       "00V8dG1xBHM84aVChJyEgIL21XK2        0.0        0.0  ...        0.0        0.0   \n",
       "00zoJSpuLHUBtthekFUQ3sjnJy63        0.0        0.0  ...        0.0        0.0   \n",
       "...                                 ...        ...  ...        ...        ...   \n",
       "zzqXh3hccWTjkxco7Qdz1iEy7bu1        0.0        0.3  ...        0.0        0.0   \n",
       "zzqaeuDHkFcnofZkDUHPJ7fbCS33        0.0        0.0  ...        0.0        0.0   \n",
       "zzrZzibp5CbzXtjld4reTvX7bdR2        0.9        0.0  ...        0.0        0.0   \n",
       "zzxqL7l0M2fuSto96UNjWi3pg9b2        0.0        0.0  ...        0.0        0.0   \n",
       "zzy8Wl17TrPlHWs0QQYZyLzdUVC3        0.0        0.0  ...        0.0        0.0   \n",
       "\n",
       "sku                           8-ILB-106  8-LCM-119  8-RES-102  8-RES-106  \\\n",
       "customer_id                                                                \n",
       "00HCaCqtG9aMGVCDyBUbvzIzY073        0.0        0.0        0.0        0.0   \n",
       "00KfpQoUiRTi8RfGFcdjFM80s5s1        0.0        0.0        0.0        0.0   \n",
       "00RZel3ipuTJMrADRnZ3Lr1C1XX2        0.0        0.0        0.0        0.0   \n",
       "00V8dG1xBHM84aVChJyEgIL21XK2        0.0        0.0        0.0        0.0   \n",
       "00zoJSpuLHUBtthekFUQ3sjnJy63        0.0        0.0        0.0        0.0   \n",
       "...                                 ...        ...        ...        ...   \n",
       "zzqXh3hccWTjkxco7Qdz1iEy7bu1        0.0        0.0        0.0        0.0   \n",
       "zzqaeuDHkFcnofZkDUHPJ7fbCS33        0.0        0.0        0.0        0.0   \n",
       "zzrZzibp5CbzXtjld4reTvX7bdR2        0.0        0.0        0.0        0.0   \n",
       "zzxqL7l0M2fuSto96UNjWi3pg9b2        0.0        0.0        0.0        0.0   \n",
       "zzy8Wl17TrPlHWs0QQYZyLzdUVC3        0.0        0.0        0.0        0.0   \n",
       "\n",
       "sku                           8-VLF-104  8-VLF-105  8-VLF-107  8-VLF-108  \n",
       "customer_id                                                               \n",
       "00HCaCqtG9aMGVCDyBUbvzIzY073        0.0        0.0        0.0        0.0  \n",
       "00KfpQoUiRTi8RfGFcdjFM80s5s1        0.0        0.0        0.0        0.0  \n",
       "00RZel3ipuTJMrADRnZ3Lr1C1XX2        0.0        0.0        0.0        0.0  \n",
       "00V8dG1xBHM84aVChJyEgIL21XK2        0.0        0.0        0.0        0.0  \n",
       "00zoJSpuLHUBtthekFUQ3sjnJy63        0.0        0.0        0.0        0.0  \n",
       "...                                 ...        ...        ...        ...  \n",
       "zzqXh3hccWTjkxco7Qdz1iEy7bu1        0.0        0.0        0.0        0.0  \n",
       "zzqaeuDHkFcnofZkDUHPJ7fbCS33        0.0        0.0        0.0        0.0  \n",
       "zzrZzibp5CbzXtjld4reTvX7bdR2        0.0        0.0        0.0        0.0  \n",
       "zzxqL7l0M2fuSto96UNjWi3pg9b2        0.0        0.0        0.0        0.0  \n",
       "zzy8Wl17TrPlHWs0QQYZyLzdUVC3        0.0        0.0        0.0        0.0  \n",
       "\n",
       "[61886 rows x 500 columns]"
      ]
     },
     "execution_count": 20,
     "metadata": {},
     "output_type": "execute_result"
    }
   ],
   "source": [
    "data"
   ]
  },
  {
   "cell_type": "code",
   "execution_count": 21,
   "id": "6197ccad",
   "metadata": {},
   "outputs": [],
   "source": [
    "matrix_positive = pd.pivot_table(final_table, values=['score'], index=['customer_id'],\n",
    "                    columns=['sku'],aggfunc='sum')"
   ]
  },
  {
   "cell_type": "code",
   "execution_count": 22,
   "id": "3db79365",
   "metadata": {},
   "outputs": [],
   "source": [
    "matrix_positive = matrix_positive + 1\n",
    "matrix_positive = matrix_positive.fillna(0)\n",
    "matrix_positive.columns = matrix_positive.columns.droplevel(0)\n",
    "data_positive = matrix_positive"
   ]
  },
  {
   "cell_type": "markdown",
   "id": "aef092b7",
   "metadata": {},
   "source": [
    "### Tests de recommandations"
   ]
  },
  {
   "cell_type": "code",
   "execution_count": 23,
   "id": "ef13813e",
   "metadata": {},
   "outputs": [
    {
     "data": {
      "text/plain": [
       "Index(['1-TAH-102', '3-PAP-101', '6-COT-105', '4-BOF-144', '6-BOI-101'], dtype='object', name='sku')"
      ]
     },
     "execution_count": 23,
     "metadata": {},
     "output_type": "execute_result"
    }
   ],
   "source": [
    "person_based_recommandation(data, '00V8dG1xBHM84aVChJyEgIL21XK2')"
   ]
  },
  {
   "cell_type": "code",
   "execution_count": 24,
   "id": "c7f260ea",
   "metadata": {},
   "outputs": [
    {
     "data": {
      "text/plain": [
       "Index(['4-GRA-105', '1-SNT-103', '3-PAP-101', '6-GAB-101', '6-CAS-105'], dtype='object', name='sku')"
      ]
     },
     "execution_count": 24,
     "metadata": {},
     "output_type": "execute_result"
    }
   ],
   "source": [
    "person_based_recommandation_nnf(data_positive, '00V8dG1xBHM84aVChJyEgIL21XK2')"
   ]
  },
  {
   "cell_type": "code",
   "execution_count": 25,
   "id": "40273315",
   "metadata": {},
   "outputs": [],
   "source": [
    "nnf_model = person_based_recommandation_nnf_train(data_positive, n_categories=25)"
   ]
  },
  {
   "cell_type": "code",
   "execution_count": 26,
   "id": "b7d61fce",
   "metadata": {
    "scrolled": true
   },
   "outputs": [
    {
     "data": {
      "text/plain": [
       "0.08600592979140803"
      ]
     },
     "execution_count": 26,
     "metadata": {},
     "output_type": "execute_result"
    }
   ],
   "source": [
    "nnf_mae(data_positive, nnf_model)"
   ]
  },
  {
   "cell_type": "code",
   "execution_count": 27,
   "id": "d98ccbc2",
   "metadata": {},
   "outputs": [
    {
     "data": {
      "text/plain": [
       "Index(['6-CAS-105', '6-COT-105', '3-PAP-101', '1-SNT-103', '1-BID-121'], dtype='object', name='sku')"
      ]
     },
     "execution_count": 27,
     "metadata": {},
     "output_type": "execute_result"
    }
   ],
   "source": [
    "person_based_recommandation_nnf_apply(data_positive, nnf_model, '00V8dG1xBHM84aVChJyEgIL21XK2')"
   ]
  },
  {
   "cell_type": "markdown",
   "id": "3531caaa",
   "metadata": {},
   "source": [
    "## Tests"
   ]
  },
  {
   "cell_type": "code",
   "execution_count": 28,
   "id": "d00c4500",
   "metadata": {},
   "outputs": [],
   "source": [
    "customer_id = \"h6IvomPZxOTKuKGuvS8b3nZrzVk2\""
   ]
  },
  {
   "cell_type": "code",
   "execution_count": 29,
   "id": "71767a3b",
   "metadata": {},
   "outputs": [
    {
     "data": {
      "text/plain": [
       "Index(['1-PHL-160', '1-VIT-115', '6-RIS-103'], dtype='object', name='sku')"
      ]
     },
     "execution_count": 29,
     "metadata": {},
     "output_type": "execute_result"
    }
   ],
   "source": [
    "\n",
    "person_based_recommandation(data, customer_id, n_recommandations=3)"
   ]
  },
  {
   "cell_type": "code",
   "execution_count": 30,
   "id": "b555d498",
   "metadata": {},
   "outputs": [],
   "source": [
    "\n",
    "# https://lafourche.fr/products/philia-bouillon-de-legumes-en-poudre-bio-125g-bio\n",
    "# https://lafourche.fr/products/lot-de-12-compotes-cool-fruits-pomme-acerola\n",
    "# https://lafourche.fr/products/la-fourche-tomates-concassees-bio-0-4kg"
   ]
  },
  {
   "cell_type": "code",
   "execution_count": 31,
   "id": "0b39a705",
   "metadata": {},
   "outputs": [
    {
     "data": {
      "text/plain": [
       "Index(['1-ELB-100', '4-LAF-117', '3-PAP-101'], dtype='object', name='sku')"
      ]
     },
     "execution_count": 31,
     "metadata": {},
     "output_type": "execute_result"
    }
   ],
   "source": [
    "person_based_recommandation_nnf_apply(data_positive, nnf_model, customer_id, n_recommandations=3)"
   ]
  },
  {
   "cell_type": "code",
   "execution_count": 32,
   "id": "da4e1087",
   "metadata": {},
   "outputs": [],
   "source": [
    "# https://lafourche.fr/products/elibio-mais-doux-bio-300g\n",
    "# https://lafourche.fr/products/la-fourche-1kg-de-pates-cocciolette-blanches-bio-en-vrac\n",
    "# https://lafourche.fr/products/papeco-essuie-tout-blanc-100prct-recycle-origine-france-200-feuilles-ecologique"
   ]
  },
  {
   "cell_type": "code",
   "execution_count": null,
   "id": "9121448d",
   "metadata": {},
   "outputs": [],
   "source": []
  },
  {
   "cell_type": "code",
   "execution_count": 33,
   "id": "5dbc98c6",
   "metadata": {},
   "outputs": [],
   "source": [
    "customer_id = \"3630465646727\""
   ]
  },
  {
   "cell_type": "code",
   "execution_count": 34,
   "id": "1a1052c2",
   "metadata": {},
   "outputs": [
    {
     "data": {
      "text/plain": [
       "Index(['6-COT-103', '4-BOF-130', '6-RIS-103'], dtype='object', name='sku')"
      ]
     },
     "execution_count": 34,
     "metadata": {},
     "output_type": "execute_result"
    }
   ],
   "source": [
    "\n",
    "person_based_recommandation(data, customer_id, n_recommandations=3)"
   ]
  },
  {
   "cell_type": "code",
   "execution_count": 35,
   "id": "20569de7",
   "metadata": {},
   "outputs": [],
   "source": [
    "#https://lafourche.fr/products/la-fourche-puree-pommes-mangues-bio-0-915kg\n",
    "#https://lafourche.fr/products/vrac-1kg-de-sucre-de-coco-en-vrac-bio\n",
    "#https://lafourche.fr/products/la-fourche-tomates-concassees-bio-0-4kg"
   ]
  },
  {
   "cell_type": "code",
   "execution_count": 36,
   "id": "d936b937",
   "metadata": {},
   "outputs": [
    {
     "data": {
      "text/plain": [
       "Index(['6-COT-103', '6-COT-102', '1-CNT-133'], dtype='object', name='sku')"
      ]
     },
     "execution_count": 36,
     "metadata": {},
     "output_type": "execute_result"
    }
   ],
   "source": [
    "person_based_recommandation_nnf_apply(data_positive, nnf_model, customer_id, n_recommandations=3)"
   ]
  },
  {
   "cell_type": "code",
   "execution_count": 37,
   "id": "eb16ecf6",
   "metadata": {},
   "outputs": [],
   "source": [
    "#https://lafourche.fr/products/elibio-mais-doux-bio-300g\n",
    "#https://lafourche.fr/products/la-fourche-puree-100-cacahuetes-bio-0-5kg\n",
    "#https://lafourche.fr/products/la-fourche-1kg-de-pates-cocciolette-blanches-bio-en-vrac"
   ]
  },
  {
   "cell_type": "code",
   "execution_count": null,
   "id": "a801ee18",
   "metadata": {},
   "outputs": [],
   "source": []
  },
  {
   "cell_type": "code",
   "execution_count": 38,
   "id": "41d3d862",
   "metadata": {},
   "outputs": [],
   "source": [
    "customer_id = \"2074102857788\""
   ]
  },
  {
   "cell_type": "code",
   "execution_count": 39,
   "id": "f45b5cdc",
   "metadata": {},
   "outputs": [
    {
     "data": {
      "text/plain": [
       "Index(['1-ELB-105', '4-COS-141', '1-ELB-114'], dtype='object', name='sku')"
      ]
     },
     "execution_count": 39,
     "metadata": {},
     "output_type": "execute_result"
    }
   ],
   "source": [
    "\n",
    "person_based_recommandation(data, customer_id, n_recommandations=3)"
   ]
  },
  {
   "cell_type": "code",
   "execution_count": null,
   "id": "4c4e4fc5",
   "metadata": {},
   "outputs": [],
   "source": [
    "\n"
   ]
  },
  {
   "cell_type": "code",
   "execution_count": 40,
   "id": "e4d66490",
   "metadata": {},
   "outputs": [
    {
     "data": {
      "text/plain": [
       "Index(['1-ELB-100', '6-SOF-104', '4-LAF-117'], dtype='object', name='sku')"
      ]
     },
     "execution_count": 40,
     "metadata": {},
     "output_type": "execute_result"
    }
   ],
   "source": [
    "person_based_recommandation_nnf_apply(data_positive, nnf_model, customer_id, n_recommandations=3)"
   ]
  },
  {
   "cell_type": "code",
   "execution_count": null,
   "id": "43e0dbf9",
   "metadata": {},
   "outputs": [],
   "source": []
  },
  {
   "cell_type": "markdown",
   "id": "576fada6",
   "metadata": {},
   "source": [
    "### Un estimator qui peut rentrer dans un pipeline"
   ]
  },
  {
   "cell_type": "code",
   "execution_count": 62,
   "id": "16d3ae79",
   "metadata": {},
   "outputs": [],
   "source": [
    "from sklearn.model_selection import train_test_split\n",
    "from sklearn.metrics import mean_squared_error, mean_absolute_error"
   ]
  },
  {
   "cell_type": "code",
   "execution_count": 52,
   "id": "b37b85d7",
   "metadata": {},
   "outputs": [],
   "source": [
    "train_data, test_data = train_test_split(data_positive, test_size=0.3)"
   ]
  },
  {
   "cell_type": "code",
   "execution_count": 69,
   "id": "e47f7968",
   "metadata": {},
   "outputs": [],
   "source": [
    "class NMFPredictor(NMF):\n",
    "    # Je rajoute une fonction predict() sur le NMF pour pouvoir l'utiliser et faire des predictions directement\n",
    "    # dans un pipeline\n",
    "    def predict(self, test_data):\n",
    "        W = self.transform(test_data)\n",
    "        H = self.components_\n",
    "        \n",
    "        approximated_matrix = np.matmul(W, H)\n",
    "        return approximated_matrix\n",
    "    \n",
    "def train_test_1(train_data, test_data, n_categories=15):\n",
    "    model = NMFPredictor(n_components=n_categories, init='random', max_iter=2000, random_state=0)\n",
    "    model.fit(train_data)\n",
    "    return model.predict(test_data)\n",
    "    \n",
    "predicted_scores = train_test_1(train_data, test_data)"
   ]
  },
  {
   "cell_type": "code",
   "execution_count": 61,
   "id": "c23e6304",
   "metadata": {},
   "outputs": [
    {
     "data": {
      "text/plain": [
       "0.05885597665615573"
      ]
     },
     "execution_count": 61,
     "metadata": {},
     "output_type": "execute_result"
    }
   ],
   "source": [
    "mean_squared_error(test_data, predicted_scores)"
   ]
  },
  {
   "cell_type": "code",
   "execution_count": 63,
   "id": "320e8c3b",
   "metadata": {},
   "outputs": [
    {
     "data": {
      "text/plain": [
       "0.09094355924549226"
      ]
     },
     "execution_count": 63,
     "metadata": {},
     "output_type": "execute_result"
    }
   ],
   "source": [
    "mean_absolute_error(test_data, predicted_scores)"
   ]
  },
  {
   "cell_type": "code",
   "execution_count": 67,
   "id": "90571b7c",
   "metadata": {},
   "outputs": [
    {
     "data": {
      "text/plain": [
       "array([[0.03082638, 0.04234494, 0.03370959, ..., 0.00172931, 0.00189051,\n",
       "        0.00196528],\n",
       "       [0.02027558, 0.00156275, 0.00778404, ..., 0.00053767, 0.00110217,\n",
       "        0.00060208],\n",
       "       [0.01467177, 0.04197304, 0.01990994, ..., 0.08618027, 0.15861105,\n",
       "        0.11225453],\n",
       "       ...,\n",
       "       [0.01293661, 0.0417947 , 0.02306146, ..., 0.05392925, 0.0965279 ,\n",
       "        0.06452812],\n",
       "       [0.00455697, 0.006457  , 0.00595532, ..., 0.01738455, 0.02795246,\n",
       "        0.02021635],\n",
       "       [0.02370042, 0.01570524, 0.01648801, ..., 0.00086113, 0.00263834,\n",
       "        0.00455016]])"
      ]
     },
     "execution_count": 67,
     "metadata": {},
     "output_type": "execute_result"
    }
   ],
   "source": [
    "predicted_scores"
   ]
  },
  {
   "cell_type": "code",
   "execution_count": 66,
   "id": "cf34a9c5",
   "metadata": {},
   "outputs": [
    {
     "data": {
      "text/plain": [
       "Index(['4-BOF-125', '4-GRA-105', '4-CLN-112'], dtype='object', name='sku')"
      ]
     },
     "execution_count": 66,
     "metadata": {},
     "output_type": "execute_result"
    }
   ],
   "source": [
    "# Une fonction qui vient à la fin, après le NMF et la prédiction des scores\n",
    "# Elle fait la partie à la fin, elle prend tous les scores prédits pour tous les items, et elle renvoie une\n",
    "# prediction des 3 top items\n",
    "def predictions_from_scores(test_data, predictions, utilisateur, n_recommandations=3):\n",
    "    approximated_matrix_df = pd.DataFrame(predictions, index=test_data.index, columns=test_data.columns)\n",
    "    \n",
    "    # Pour recommander un item, on prend le mieux noté parmi ceux qu'il n'avait pas notés.\n",
    "    data_utilisateur = data.filter(items=[utilisateur], axis=0).transpose()\n",
    "    data_utilisateur['has_rated'] = (data_utilisateur[utilisateur] != 0)\n",
    "\n",
    "    predicted_ratings_utilisateur = approximated_matrix_df.filter(items=[utilisateur], axis=0).transpose()\n",
    "\n",
    "    # Un peu pareil que pour Pearson, on prend les meilleurs de ceux qu'on a pas encore notés\n",
    "    items_sorted = predicted_ratings_utilisateur[data_utilisateur['has_rated'] == False].sort_values(utilisateur, ascending=False)\n",
    "    return items_sorted[:n_recommandations].index        \n",
    "\n",
    "predictions_from_scores(test_data, predicted_scores, \"2112572620860\")"
   ]
  },
  {
   "cell_type": "markdown",
   "id": "afd1c5c7",
   "metadata": {},
   "source": [
    "## Grid search on NMF"
   ]
  },
  {
   "cell_type": "code",
   "execution_count": 41,
   "id": "5a9d7a36",
   "metadata": {},
   "outputs": [],
   "source": [
    "from sklearn.model_selection import GridSearchCV, train_test_split\n",
    "from sklearn.linear_model import LinearRegression\n",
    "from sklearn.pipeline import Pipeline"
   ]
  },
  {
   "cell_type": "code",
   "execution_count": null,
   "id": "32f4e738",
   "metadata": {},
   "outputs": [
    {
     "name": "stdout",
     "output_type": "stream",
     "text": [
      "Fitting 5 folds for each of 8 candidates, totalling 40 fits\n",
      "[CV 1/5] END ..............nmf__n_components=5;, score=-0.061 total time=   4.2s\n",
      "[CV 2/5] END ..............nmf__n_components=5;, score=-0.062 total time=   3.6s\n",
      "[CV 3/5] END ..............nmf__n_components=5;, score=-0.065 total time=   4.8s\n",
      "[CV 4/5] END ..............nmf__n_components=5;, score=-0.065 total time=   4.9s\n",
      "[CV 5/5] END ..............nmf__n_components=5;, score=-0.066 total time=   5.5s\n",
      "[CV 1/5] END .............nmf__n_components=15;, score=-0.057 total time=  19.0s\n",
      "[CV 2/5] END .............nmf__n_components=15;, score=-0.058 total time=   9.0s\n",
      "[CV 3/5] END .............nmf__n_components=15;, score=-0.060 total time=   6.5s\n",
      "[CV 4/5] END .............nmf__n_components=15;, score=-0.060 total time=   8.6s\n",
      "[CV 5/5] END .............nmf__n_components=15;, score=-0.061 total time=   9.2s\n",
      "[CV 1/5] END .............nmf__n_components=25;, score=-0.054 total time=  31.4s\n",
      "[CV 2/5] END .............nmf__n_components=25;, score=-0.055 total time=  16.5s\n",
      "[CV 3/5] END .............nmf__n_components=25;, score=-0.056 total time=  41.8s\n",
      "[CV 4/5] END .............nmf__n_components=25;, score=-0.056 total time=  17.5s\n",
      "[CV 5/5] END .............nmf__n_components=25;, score=-0.057 total time=  27.7s\n",
      "[CV 1/5] END .............nmf__n_components=50;, score=-0.047 total time=  22.9s\n",
      "[CV 2/5] END .............nmf__n_components=50;, score=-0.048 total time=  29.9s\n",
      "[CV 3/5] END .............nmf__n_components=50;, score=-0.048 total time=  30.8s\n",
      "[CV 4/5] END .............nmf__n_components=50;, score=-0.048 total time=  57.3s\n",
      "[CV 5/5] END .............nmf__n_components=50;, score=-0.049 total time=  31.7s\n",
      "[CV 1/5] END .............nmf__n_components=75;, score=-0.042 total time= 1.1min\n",
      "[CV 2/5] END .............nmf__n_components=75;, score=-0.042 total time= 1.1min\n",
      "[CV 3/5] END .............nmf__n_components=75;, score=-0.042 total time=  53.3s\n"
     ]
    }
   ],
   "source": [
    "param_grid = {\n",
    "    # 'nmf__n_components': [5, 25, 50, 75, 100, 200, 300]\n",
    "    'nmf__n_components': [5, 15, 25, 50, 75, 100, 200, 300]\n",
    "}\n",
    "\n",
    "pipe = Pipeline([\n",
    "    ('nmf', NMFPredictor(init='random', max_iter=2000, random_state=0)),\n",
    "])\n",
    "\n",
    "grid_search = GridSearchCV(pipe, param_grid, cv=5, scoring='neg_mean_squared_error', verbose=3)\n",
    "grid_search.fit(data_positive, data_positive)"
   ]
  },
  {
   "cell_type": "code",
   "execution_count": null,
   "id": "217bf66e",
   "metadata": {},
   "outputs": [],
   "source": [
    "grid_search.best_estimator_"
   ]
  }
 ],
 "metadata": {
  "kernelspec": {
   "display_name": "Python 3 (ipykernel)",
   "language": "python",
   "name": "python3"
  },
  "language_info": {
   "codemirror_mode": {
    "name": "ipython",
    "version": 3
   },
   "file_extension": ".py",
   "mimetype": "text/x-python",
   "name": "python",
   "nbconvert_exporter": "python",
   "pygments_lexer": "ipython3",
   "version": "3.9.2"
  },
  "toc": {
   "base_numbering": 1,
   "nav_menu": {},
   "number_sections": true,
   "sideBar": true,
   "skip_h1_title": false,
   "title_cell": "Table of Contents",
   "title_sidebar": "Contents",
   "toc_cell": false,
   "toc_position": {},
   "toc_section_display": true,
   "toc_window_display": false
  }
 },
 "nbformat": 4,
 "nbformat_minor": 5
}
